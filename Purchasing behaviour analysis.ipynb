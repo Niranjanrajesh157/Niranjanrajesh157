{
 "cells": [
  {
   "cell_type": "code",
   "execution_count": 1,
   "id": "4bfe72b3",
   "metadata": {},
   "outputs": [],
   "source": [
    "import pandas as pd\n",
    "import numpy as np\n",
    "import matplotlib.pyplot as plt\n",
    "import seaborn as sns"
   ]
  },
  {
   "cell_type": "code",
   "execution_count": 2,
   "id": "535fea2f",
   "metadata": {},
   "outputs": [],
   "source": [
    "df_train = pd.read_csv(r\"C:\\Users\\niran\\OneDrive\\Desktop\\train (4).csv\")"
   ]
  },
  {
   "cell_type": "code",
   "execution_count": 3,
   "id": "a03ab744",
   "metadata": {},
   "outputs": [
    {
     "data": {
      "text/plain": [
       "User_ID                            0\n",
       "Product_ID                         0\n",
       "Gender                             0\n",
       "Age                                0\n",
       "Occupation                         0\n",
       "City_Category                      0\n",
       "Stay_In_Current_City_Years         0\n",
       "Marital_Status                     0\n",
       "Product_Category_1                 0\n",
       "Product_Category_2            173638\n",
       "Product_Category_3            383247\n",
       "Purchase                           0\n",
       "dtype: int64"
      ]
     },
     "execution_count": 3,
     "metadata": {},
     "output_type": "execute_result"
    }
   ],
   "source": [
    "df_train.isna().sum()"
   ]
  },
  {
   "cell_type": "code",
   "execution_count": 4,
   "id": "ed5b6d99",
   "metadata": {},
   "outputs": [],
   "source": [
    "df_train.dropna(inplace = True)"
   ]
  },
  {
   "cell_type": "code",
   "execution_count": 5,
   "id": "3a7d5d6b",
   "metadata": {},
   "outputs": [
    {
     "data": {
      "text/plain": [
       "(166821, 12)"
      ]
     },
     "execution_count": 5,
     "metadata": {},
     "output_type": "execute_result"
    }
   ],
   "source": [
    "df_train.shape"
   ]
  },
  {
   "cell_type": "code",
   "execution_count": 6,
   "id": "0d934bc2",
   "metadata": {},
   "outputs": [],
   "source": [
    "from sklearn.preprocessing import LabelEncoder"
   ]
  },
  {
   "cell_type": "code",
   "execution_count": 7,
   "id": "832a7207",
   "metadata": {},
   "outputs": [],
   "source": [
    "le = LabelEncoder()"
   ]
  },
  {
   "cell_type": "code",
   "execution_count": 8,
   "id": "a45df553",
   "metadata": {},
   "outputs": [
    {
     "data": {
      "text/plain": [
       "User_ID                       0\n",
       "Product_ID                    0\n",
       "Gender                        0\n",
       "Age                           0\n",
       "Occupation                    0\n",
       "City_Category                 0\n",
       "Stay_In_Current_City_Years    0\n",
       "Marital_Status                0\n",
       "Product_Category_1            0\n",
       "Product_Category_2            0\n",
       "Product_Category_3            0\n",
       "Purchase                      0\n",
       "dtype: int64"
      ]
     },
     "execution_count": 8,
     "metadata": {},
     "output_type": "execute_result"
    }
   ],
   "source": [
    "df_train.isna().sum()"
   ]
  },
  {
   "cell_type": "code",
   "execution_count": 9,
   "id": "353c2f8e",
   "metadata": {},
   "outputs": [
    {
     "name": "stdout",
     "output_type": "stream",
     "text": [
      "('User_ID', array([1000001, 1000002, 1000003, ..., 1006038, 1006039, 1006040],\n",
      "      dtype=int64))\n",
      "('Product_ID', array(['P00000142', 'P00000242', 'P00000642', 'P00001042', 'P00001142',\n",
      "       'P00001542', 'P00002142', 'P00002242', 'P00003442', 'P00004242',\n",
      "       'P00004842', 'P00005542', 'P00005942', 'P00006942', 'P00008042',\n",
      "       'P00010542', 'P00010742', 'P00010942', 'P00011942', 'P00012242',\n",
      "       'P00014442', 'P00014642', 'P00014842', 'P00015542', 'P00015642',\n",
      "       'P00015842', 'P00015942', 'P00016342', 'P00016442', 'P00016542',\n",
      "       'P00016742', 'P00016842', 'P00019042', 'P00019342', 'P00021842',\n",
      "       'P00023342', 'P00024142', 'P00025242', 'P00025342', 'P00025442',\n",
      "       'P00026042', 'P00027842', 'P00028442', 'P00028542', 'P00029542',\n",
      "       'P00030842', 'P00030942', 'P00031842', 'P00032042', 'P00034042',\n",
      "       'P00034142', 'P00034242', 'P00034442', 'P00034742', 'P00035042',\n",
      "       'P00035342', 'P00035542', 'P00035842', 'P00035942', 'P00036842',\n",
      "       'P00037142', 'P00038042', 'P00038142', 'P00041342', 'P00041442',\n",
      "       'P00042142', 'P00043842', 'P00044242', 'P00045042', 'P00045142',\n",
      "       'P00045242', 'P00045342', 'P00046742', 'P00048042', 'P00048342',\n",
      "       'P00050042', 'P00050342', 'P00050442', 'P00051942', 'P00053042',\n",
      "       'P00053342', 'P00053442', 'P00053842', 'P00053942', 'P00054242',\n",
      "       'P00054542', 'P00057442', 'P00057542', 'P00057642', 'P00057742',\n",
      "       'P00057842', 'P00057942', 'P00058142', 'P00058242', 'P00059442',\n",
      "       'P00059642', 'P00059742', 'P00060842', 'P00061342', 'P00062842',\n",
      "       'P00063342', 'P00064042', 'P00065242', 'P00066242', 'P00066542',\n",
      "       'P00067842', 'P00070042', 'P00070342', 'P00070942', 'P00071242',\n",
      "       'P00073842', 'P00074142', 'P00074642', 'P00075342', 'P00076542',\n",
      "       'P00076942', 'P00078542', 'P00078742', 'P00079742', 'P00080342',\n",
      "       'P00081142', 'P00082742', 'P00083342', 'P00084742', 'P00085142',\n",
      "       'P00085242', 'P00085942', 'P00086042', 'P00086442', 'P00087042',\n",
      "       'P00087142', 'P00087342', 'P00088242', 'P00088542', 'P00088642',\n",
      "       'P00090942', 'P00092842', 'P00093342', 'P00100442', 'P00102342',\n",
      "       'P00102642', 'P00105142', 'P00105342', 'P00107042', 'P00107142',\n",
      "       'P00108542', 'P00109242', 'P00109542', 'P00110742', 'P00110842',\n",
      "       'P00111142', 'P00111642', 'P00112142', 'P00112242', 'P00112542',\n",
      "       'P00112642', 'P00113142', 'P00113242', 'P00113342', 'P00113842',\n",
      "       'P00114342', 'P00114942', 'P00115142', 'P00115342', 'P00115742',\n",
      "       'P00116142', 'P00116842', 'P00116942', 'P00117042', 'P00117342',\n",
      "       'P00117842', 'P00118342', 'P00118642', 'P00119142', 'P00119642',\n",
      "       'P00119742', 'P00120742', 'P00121342', 'P00122442', 'P00125942',\n",
      "       'P00126242', 'P00127342', 'P00127442', 'P00127542', 'P00127642',\n",
      "       'P00127742', 'P00127842', 'P00127942', 'P00128042', 'P00128142',\n",
      "       'P00128242', 'P00128342', 'P00129342', 'P00129842', 'P00130742',\n",
      "       'P00131442', 'P00135242', 'P00136242', 'P00136742', 'P00136842',\n",
      "       'P00137542', 'P00137642', 'P00138042', 'P00138442', 'P00140442',\n",
      "       'P00140542', 'P00141942', 'P00142142', 'P00142842', 'P00142942',\n",
      "       'P00143342', 'P00143642', 'P00144042', 'P00144642', 'P00145042',\n",
      "       'P00145642', 'P00145942', 'P00146042', 'P00146142', 'P00146542',\n",
      "       'P00146742', 'P00146842', 'P00147142', 'P00148542', 'P00148642',\n",
      "       'P00148842', 'P00149442', 'P00149542', 'P00150842', 'P00150942',\n",
      "       'P00151242', 'P00151742', 'P00151842', 'P00153842', 'P00154042',\n",
      "       'P00154742', 'P00155242', 'P00155442', 'P00156242', 'P00156742',\n",
      "       'P00157442', 'P00157642', 'P00158542', 'P00159242', 'P00159542',\n",
      "       'P00159742', 'P00160042', 'P00160642', 'P00161242', 'P00161542',\n",
      "       'P00161842', 'P00163242', 'P00163442', 'P00163542', 'P00163742',\n",
      "       'P00164042', 'P00164442', 'P00165442', 'P00165642', 'P00166942',\n",
      "       'P00169742', 'P00170242', 'P00170942', 'P00171542', 'P00171642',\n",
      "       'P00173042', 'P00173142', 'P00173342', 'P00173742', 'P00173842',\n",
      "       'P00173942', 'P00174142', 'P00174642', 'P00176542', 'P00177442',\n",
      "       'P00178842', 'P00182142', 'P00182242', 'P00182342', 'P00182642',\n",
      "       'P00182742', 'P00182942', 'P00183342', 'P00183642', 'P00183742',\n",
      "       'P00183842', 'P00184442', 'P00184942', 'P00185742', 'P00185842',\n",
      "       'P00186142', 'P00186342', 'P00186542', 'P00186642', 'P00187042',\n",
      "       'P00187142', 'P00187342', 'P00187442', 'P00188542', 'P00188742',\n",
      "       'P00189842', 'P00190042', 'P00190142', 'P00190742', 'P00190842',\n",
      "       'P00191242', 'P00191342', 'P00191442', 'P00191642', 'P00191942',\n",
      "       'P00192042', 'P00192242', 'P00192542', 'P00193042', 'P00193642',\n",
      "       'P00194642', 'P00195042', 'P00195842', 'P00196042', 'P00196142',\n",
      "       'P00196242', 'P00196342', 'P00196542', 'P00198142', 'P00198242',\n",
      "       'P00198742', 'P00199142', 'P00199342', 'P00200242', 'P00201342',\n",
      "       'P00201442', 'P00202142', 'P00202742', 'P00205442', 'P00205942',\n",
      "       'P00206442', 'P00207342', 'P00208442', 'P00208742', 'P00209642',\n",
      "       'P00209742', 'P00213042', 'P00214642', 'P00215242', 'P00216242',\n",
      "       'P00216342', 'P00217442', 'P00217542', 'P00217642', 'P00217842',\n",
      "       'P00219742', 'P00220742', 'P00221342', 'P00221442', 'P00222242',\n",
      "       'P00222942', 'P00223042', 'P00223442', 'P00223542', 'P00223742',\n",
      "       'P00223842', 'P00225842', 'P00227642', 'P00228342', 'P00229142',\n",
      "       'P00229642', 'P00231342', 'P00233142', 'P00233342', 'P00233442',\n",
      "       'P00234642', 'P00234842', 'P00235842', 'P00235942', 'P00237542',\n",
      "       'P00239042', 'P00239242', 'P00239742', 'P00240242', 'P00241242',\n",
      "       'P00241342', 'P00241642', 'P00242542', 'P00242742', 'P00243042',\n",
      "       'P00243942', 'P00244042', 'P00244142', 'P00244242', 'P00245642',\n",
      "       'P00246142', 'P00247142', 'P00247442', 'P00247942', 'P00248942',\n",
      "       'P00249442', 'P00249542', 'P00249742', 'P00251642', 'P00251842',\n",
      "       'P00251942', 'P00253142', 'P00254242', 'P00256042', 'P00259842',\n",
      "       'P00262242', 'P00264542', 'P00266642', 'P00266742', 'P00266942',\n",
      "       'P00267342', 'P00267442', 'P00269342', 'P00270542', 'P00270942',\n",
      "       'P00273442', 'P00274342', 'P00274842', 'P00275842', 'P00277442',\n",
      "       'P00277542', 'P00277642', 'P00278942', 'P00281742', 'P00282242',\n",
      "       'P00282442', 'P00283142', 'P00284842', 'P00285642', 'P00288942',\n",
      "       'P00289342', 'P00289942', 'P00290242', 'P00290742', 'P00293842',\n",
      "       'P00294142', 'P00294442', 'P00295942', 'P00296042', 'P00296842',\n",
      "       'P00298042', 'P00303442', 'P00303842', 'P00304342', 'P00304642',\n",
      "       'P00305042', 'P00308242', 'P00310842', 'P00311742', 'P00313442',\n",
      "       'P00313842', 'P00317642', 'P00318642', 'P00320742', 'P00320842',\n",
      "       'P00320942', 'P00321242', 'P00321742', 'P00322942', 'P00324442',\n",
      "       'P00324742', 'P00328942', 'P00329542', 'P00329942', 'P00330342',\n",
      "       'P00334042', 'P00334642', 'P00337242', 'P00337342', 'P00338942',\n",
      "       'P00339842', 'P00340342', 'P00341342', 'P00341942', 'P00342042',\n",
      "       'P00342142', 'P00342242', 'P00342342', 'P00342442', 'P00342542',\n",
      "       'P00344442', 'P00345542', 'P00345642', 'P00345742', 'P00345842',\n",
      "       'P00346042', 'P00346442', 'P00346542', 'P00350442', 'P00350942',\n",
      "       'P00351142', 'P00351242', 'P00351342', 'P00351642', 'P00351742',\n",
      "       'P00352142', 'P00352242', 'P00352842', 'P00353342', 'P00353442',\n",
      "       'P00356342', 'P00358342', 'P00358642', 'P00359042', 'P00359242',\n",
      "       'P00361942', 'P00363242', 'P00364442', 'P00369942', 'P00370042',\n",
      "       'P0094342', 'P0094542', 'P0094742', 'P0095042', 'P0095442',\n",
      "       'P0095542', 'P0095842', 'P0096042', 'P0096442', 'P0096542',\n",
      "       'P0096642', 'P0096742', 'P0096842', 'P0097342', 'P0099042',\n",
      "       'P0099742', 'P0099842', 'P0099942'], dtype=object))\n",
      "('Gender', array(['F', 'M'], dtype=object))\n",
      "('Age', array(['0-17', '18-25', '26-35', '36-45', '46-50', '51-55', '55+'],\n",
      "      dtype=object))\n",
      "('City_Category', array(['A', 'B', 'C'], dtype=object))\n"
     ]
    }
   ],
   "source": [
    "columns_to_encode = ['User_ID', 'Product_ID', 'Gender', 'Age', 'City_Category']\n",
    "for column in columns_to_encode:\n",
    "    df_train[column] = le.fit_transform(df_train[column])\n",
    "    print((column,le.classes_))"
   ]
  },
  {
   "cell_type": "code",
   "execution_count": 10,
   "id": "35cde1c2",
   "metadata": {},
   "outputs": [
    {
     "name": "stdout",
     "output_type": "stream",
     "text": [
      "<class 'pandas.core.frame.DataFrame'>\n",
      "Int64Index: 166821 entries, 1 to 545914\n",
      "Data columns (total 12 columns):\n",
      " #   Column                      Non-Null Count   Dtype  \n",
      "---  ------                      --------------   -----  \n",
      " 0   User_ID                     166821 non-null  int64  \n",
      " 1   Product_ID                  166821 non-null  int32  \n",
      " 2   Gender                      166821 non-null  int32  \n",
      " 3   Age                         166821 non-null  int32  \n",
      " 4   Occupation                  166821 non-null  int64  \n",
      " 5   City_Category               166821 non-null  int32  \n",
      " 6   Stay_In_Current_City_Years  166821 non-null  object \n",
      " 7   Marital_Status              166821 non-null  int64  \n",
      " 8   Product_Category_1          166821 non-null  int64  \n",
      " 9   Product_Category_2          166821 non-null  float64\n",
      " 10  Product_Category_3          166821 non-null  float64\n",
      " 11  Purchase                    166821 non-null  int64  \n",
      "dtypes: float64(2), int32(4), int64(5), object(1)\n",
      "memory usage: 14.0+ MB\n"
     ]
    }
   ],
   "source": [
    "df_train.info()"
   ]
  },
  {
   "cell_type": "code",
   "execution_count": 11,
   "id": "a2db63e5",
   "metadata": {},
   "outputs": [
    {
     "data": {
      "text/plain": [
       "array(['2', '1', '4+', '0', '3'], dtype=object)"
      ]
     },
     "execution_count": 11,
     "metadata": {},
     "output_type": "execute_result"
    }
   ],
   "source": [
    "df_train['Stay_In_Current_City_Years'].unique()"
   ]
  },
  {
   "cell_type": "code",
   "execution_count": 12,
   "id": "a29e9610",
   "metadata": {},
   "outputs": [],
   "source": [
    "df_train['Stay_In_Current_City_Years'] = df_train['Stay_In_Current_City_Years'].replace('4+',' 4')"
   ]
  },
  {
   "cell_type": "code",
   "execution_count": 13,
   "id": "5e011221",
   "metadata": {},
   "outputs": [
    {
     "data": {
      "text/plain": [
       "array(['2', '1', ' 4', '0', '3'], dtype=object)"
      ]
     },
     "execution_count": 13,
     "metadata": {},
     "output_type": "execute_result"
    }
   ],
   "source": [
    "df_train['Stay_In_Current_City_Years'].unique()"
   ]
  },
  {
   "cell_type": "code",
   "execution_count": 14,
   "id": "b76d21d3",
   "metadata": {},
   "outputs": [
    {
     "data": {
      "text/plain": [
       "<bound method NDFrame.astype of 1          2\n",
       "6          2\n",
       "13         1\n",
       "14         1\n",
       "16         1\n",
       "          ..\n",
       "545902     4\n",
       "545904     2\n",
       "545907     2\n",
       "545908     2\n",
       "545914     2\n",
       "Name: Stay_In_Current_City_Years, Length: 166821, dtype: object>"
      ]
     },
     "execution_count": 14,
     "metadata": {},
     "output_type": "execute_result"
    }
   ],
   "source": [
    "df_train['Stay_In_Current_City_Years'].astype"
   ]
  },
  {
   "cell_type": "code",
   "execution_count": 15,
   "id": "747ffebc",
   "metadata": {},
   "outputs": [],
   "source": [
    "df_train['Stay_In_Current_City_Years'] = df_train['Stay_In_Current_City_Years'].astype('int64')\n"
   ]
  },
  {
   "cell_type": "code",
   "execution_count": 16,
   "id": "d2876a9a",
   "metadata": {},
   "outputs": [
    {
     "name": "stdout",
     "output_type": "stream",
     "text": [
      "<class 'pandas.core.frame.DataFrame'>\n",
      "Int64Index: 166821 entries, 1 to 545914\n",
      "Data columns (total 12 columns):\n",
      " #   Column                      Non-Null Count   Dtype  \n",
      "---  ------                      --------------   -----  \n",
      " 0   User_ID                     166821 non-null  int64  \n",
      " 1   Product_ID                  166821 non-null  int32  \n",
      " 2   Gender                      166821 non-null  int32  \n",
      " 3   Age                         166821 non-null  int32  \n",
      " 4   Occupation                  166821 non-null  int64  \n",
      " 5   City_Category               166821 non-null  int32  \n",
      " 6   Stay_In_Current_City_Years  166821 non-null  int64  \n",
      " 7   Marital_Status              166821 non-null  int64  \n",
      " 8   Product_Category_1          166821 non-null  int64  \n",
      " 9   Product_Category_2          166821 non-null  float64\n",
      " 10  Product_Category_3          166821 non-null  float64\n",
      " 11  Purchase                    166821 non-null  int64  \n",
      "dtypes: float64(2), int32(4), int64(6)\n",
      "memory usage: 14.0 MB\n"
     ]
    }
   ],
   "source": [
    "df_train.info()"
   ]
  },
  {
   "cell_type": "code",
   "execution_count": 17,
   "id": "562b934d",
   "metadata": {},
   "outputs": [
    {
     "data": {
      "text/html": [
       "<div>\n",
       "<style scoped>\n",
       "    .dataframe tbody tr th:only-of-type {\n",
       "        vertical-align: middle;\n",
       "    }\n",
       "\n",
       "    .dataframe tbody tr th {\n",
       "        vertical-align: top;\n",
       "    }\n",
       "\n",
       "    .dataframe thead th {\n",
       "        text-align: right;\n",
       "    }\n",
       "</style>\n",
       "<table border=\"1\" class=\"dataframe\">\n",
       "  <thead>\n",
       "    <tr style=\"text-align: right;\">\n",
       "      <th></th>\n",
       "      <th>User_ID</th>\n",
       "      <th>Product_ID</th>\n",
       "      <th>Gender</th>\n",
       "      <th>Age</th>\n",
       "      <th>Occupation</th>\n",
       "      <th>City_Category</th>\n",
       "      <th>Stay_In_Current_City_Years</th>\n",
       "      <th>Marital_Status</th>\n",
       "      <th>Product_Category_1</th>\n",
       "      <th>Product_Category_2</th>\n",
       "      <th>Product_Category_3</th>\n",
       "      <th>Purchase</th>\n",
       "    </tr>\n",
       "  </thead>\n",
       "  <tbody>\n",
       "    <tr>\n",
       "      <th>count</th>\n",
       "      <td>166821.000000</td>\n",
       "      <td>166821.000000</td>\n",
       "      <td>166821.000000</td>\n",
       "      <td>166821.000000</td>\n",
       "      <td>166821.000000</td>\n",
       "      <td>166821.000000</td>\n",
       "      <td>166821.000000</td>\n",
       "      <td>166821.000000</td>\n",
       "      <td>166821.000000</td>\n",
       "      <td>166821.000000</td>\n",
       "      <td>166821.000000</td>\n",
       "      <td>166821.000000</td>\n",
       "    </tr>\n",
       "    <tr>\n",
       "      <th>mean</th>\n",
       "      <td>2945.474341</td>\n",
       "      <td>231.841998</td>\n",
       "      <td>0.774645</td>\n",
       "      <td>2.455153</td>\n",
       "      <td>8.178886</td>\n",
       "      <td>1.087159</td>\n",
       "      <td>1.861690</td>\n",
       "      <td>0.402839</td>\n",
       "      <td>2.742766</td>\n",
       "      <td>6.896871</td>\n",
       "      <td>12.668243</td>\n",
       "      <td>11658.114980</td>\n",
       "    </tr>\n",
       "    <tr>\n",
       "      <th>std</th>\n",
       "      <td>1684.776255</td>\n",
       "      <td>145.018965</td>\n",
       "      <td>0.417817</td>\n",
       "      <td>1.335119</td>\n",
       "      <td>6.487522</td>\n",
       "      <td>0.759824</td>\n",
       "      <td>1.284791</td>\n",
       "      <td>0.490470</td>\n",
       "      <td>2.573969</td>\n",
       "      <td>4.500288</td>\n",
       "      <td>4.125338</td>\n",
       "      <td>5082.287959</td>\n",
       "    </tr>\n",
       "    <tr>\n",
       "      <th>min</th>\n",
       "      <td>0.000000</td>\n",
       "      <td>0.000000</td>\n",
       "      <td>0.000000</td>\n",
       "      <td>0.000000</td>\n",
       "      <td>0.000000</td>\n",
       "      <td>0.000000</td>\n",
       "      <td>0.000000</td>\n",
       "      <td>0.000000</td>\n",
       "      <td>1.000000</td>\n",
       "      <td>2.000000</td>\n",
       "      <td>3.000000</td>\n",
       "      <td>185.000000</td>\n",
       "    </tr>\n",
       "    <tr>\n",
       "      <th>25%</th>\n",
       "      <td>1470.000000</td>\n",
       "      <td>114.000000</td>\n",
       "      <td>1.000000</td>\n",
       "      <td>2.000000</td>\n",
       "      <td>2.000000</td>\n",
       "      <td>1.000000</td>\n",
       "      <td>1.000000</td>\n",
       "      <td>0.000000</td>\n",
       "      <td>1.000000</td>\n",
       "      <td>2.000000</td>\n",
       "      <td>9.000000</td>\n",
       "      <td>7869.000000</td>\n",
       "    </tr>\n",
       "    <tr>\n",
       "      <th>50%</th>\n",
       "      <td>3007.000000</td>\n",
       "      <td>209.000000</td>\n",
       "      <td>1.000000</td>\n",
       "      <td>2.000000</td>\n",
       "      <td>7.000000</td>\n",
       "      <td>1.000000</td>\n",
       "      <td>2.000000</td>\n",
       "      <td>0.000000</td>\n",
       "      <td>1.000000</td>\n",
       "      <td>6.000000</td>\n",
       "      <td>14.000000</td>\n",
       "      <td>11756.000000</td>\n",
       "    </tr>\n",
       "    <tr>\n",
       "      <th>75%</th>\n",
       "      <td>4351.000000</td>\n",
       "      <td>353.000000</td>\n",
       "      <td>1.000000</td>\n",
       "      <td>3.000000</td>\n",
       "      <td>14.000000</td>\n",
       "      <td>2.000000</td>\n",
       "      <td>3.000000</td>\n",
       "      <td>1.000000</td>\n",
       "      <td>4.000000</td>\n",
       "      <td>10.000000</td>\n",
       "      <td>16.000000</td>\n",
       "      <td>15626.000000</td>\n",
       "    </tr>\n",
       "    <tr>\n",
       "      <th>max</th>\n",
       "      <td>5869.000000</td>\n",
       "      <td>527.000000</td>\n",
       "      <td>1.000000</td>\n",
       "      <td>6.000000</td>\n",
       "      <td>20.000000</td>\n",
       "      <td>2.000000</td>\n",
       "      <td>4.000000</td>\n",
       "      <td>1.000000</td>\n",
       "      <td>15.000000</td>\n",
       "      <td>16.000000</td>\n",
       "      <td>18.000000</td>\n",
       "      <td>23959.000000</td>\n",
       "    </tr>\n",
       "  </tbody>\n",
       "</table>\n",
       "</div>"
      ],
      "text/plain": [
       "             User_ID     Product_ID         Gender            Age  \\\n",
       "count  166821.000000  166821.000000  166821.000000  166821.000000   \n",
       "mean     2945.474341     231.841998       0.774645       2.455153   \n",
       "std      1684.776255     145.018965       0.417817       1.335119   \n",
       "min         0.000000       0.000000       0.000000       0.000000   \n",
       "25%      1470.000000     114.000000       1.000000       2.000000   \n",
       "50%      3007.000000     209.000000       1.000000       2.000000   \n",
       "75%      4351.000000     353.000000       1.000000       3.000000   \n",
       "max      5869.000000     527.000000       1.000000       6.000000   \n",
       "\n",
       "          Occupation  City_Category  Stay_In_Current_City_Years  \\\n",
       "count  166821.000000  166821.000000               166821.000000   \n",
       "mean        8.178886       1.087159                    1.861690   \n",
       "std         6.487522       0.759824                    1.284791   \n",
       "min         0.000000       0.000000                    0.000000   \n",
       "25%         2.000000       1.000000                    1.000000   \n",
       "50%         7.000000       1.000000                    2.000000   \n",
       "75%        14.000000       2.000000                    3.000000   \n",
       "max        20.000000       2.000000                    4.000000   \n",
       "\n",
       "       Marital_Status  Product_Category_1  Product_Category_2  \\\n",
       "count   166821.000000       166821.000000       166821.000000   \n",
       "mean         0.402839            2.742766            6.896871   \n",
       "std          0.490470            2.573969            4.500288   \n",
       "min          0.000000            1.000000            2.000000   \n",
       "25%          0.000000            1.000000            2.000000   \n",
       "50%          0.000000            1.000000            6.000000   \n",
       "75%          1.000000            4.000000           10.000000   \n",
       "max          1.000000           15.000000           16.000000   \n",
       "\n",
       "       Product_Category_3       Purchase  \n",
       "count       166821.000000  166821.000000  \n",
       "mean            12.668243   11658.114980  \n",
       "std              4.125338    5082.287959  \n",
       "min              3.000000     185.000000  \n",
       "25%              9.000000    7869.000000  \n",
       "50%             14.000000   11756.000000  \n",
       "75%             16.000000   15626.000000  \n",
       "max             18.000000   23959.000000  "
      ]
     },
     "execution_count": 17,
     "metadata": {},
     "output_type": "execute_result"
    }
   ],
   "source": [
    "df_train.describe()"
   ]
  },
  {
   "cell_type": "code",
   "execution_count": 18,
   "id": "0edb3888",
   "metadata": {},
   "outputs": [
    {
     "data": {
      "text/plain": [
       "<seaborn.axisgrid.FacetGrid at 0x1e910d236d0>"
      ]
     },
     "execution_count": 18,
     "metadata": {},
     "output_type": "execute_result"
    },
    {
     "data": {
      "image/png": "[encoded data removed]",
      "text/plain": [
       "<Figure size 500x500 with 1 Axes>"
      ]
     },
     "metadata": {},
     "output_type": "display_data"
    }
   ],
   "source": [
    "sns.catplot(data = df_train, x = 'Gender', y = 'User_ID', kind = 'bar')"
   ]
  },
  {
   "cell_type": "code",
   "execution_count": 19,
   "id": "232dee1a",
   "metadata": {},
   "outputs": [
    {
     "data": {
      "text/plain": [
       "<Axes: >"
      ]
     },
     "execution_count": 19,
     "metadata": {},
     "output_type": "execute_result"
    },
    {
     "data": {
      "image/png": "[encoded data removed]",
      "text/plain": [
       "<Figure size 1000x1500 with 1 Axes>"
      ]
     },
     "metadata": {},
     "output_type": "display_data"
    }
   ],
   "source": [
    "plt.figure(figsize = (10,15))\n",
    "df_train['Product_Category_1'].value_counts().plot(kind = 'bar')"
   ]
  },
  {
   "cell_type": "code",
   "execution_count": 20,
   "id": "c3842207",
   "metadata": {},
   "outputs": [
    {
     "data": {
      "text/plain": [
       "<Axes: >"
      ]
     },
     "execution_count": 20,
     "metadata": {},
     "output_type": "execute_result"
    },
    {
     "data": {
      "image/png": "[encoded data removed]",
      "text/plain": [
       "<Figure size 1500x500 with 2 Axes>"
      ]
     },
     "metadata": {},
     "output_type": "display_data"
    }
   ],
   "source": [
    "plt.figure(figsize = (15,5))\n",
    "sns.heatmap(df_train.corr(), annot = True)"
   ]
  },
  {
   "cell_type": "code",
   "execution_count": 21,
   "id": "efddfa25",
   "metadata": {},
   "outputs": [
    {
     "name": "stdout",
     "output_type": "stream",
     "text": [
      "Requirement already satisfied: pandas-profiling in c:\\users\\niran\\anaconda3\\lib\\site-packages (3.2.0)\n",
      "Requirement already satisfied: joblib~=1.1.0 in c:\\users\\niran\\anaconda3\\lib\\site-packages (from pandas-profiling) (1.1.1)\n",
      "Requirement already satisfied: scipy>=1.4.1 in c:\\users\\niran\\anaconda3\\lib\\site-packages (from pandas-profiling) (1.10.1)\n",
      "Requirement already satisfied: pandas!=1.0.0,!=1.0.1,!=1.0.2,!=1.1.0,>=0.25.3 in c:\\users\\niran\\anaconda3\\lib\\site-packages (from pandas-profiling) (1.5.3)\n",
      "Requirement already satisfied: matplotlib>=3.2.0 in c:\\users\\niran\\anaconda3\\lib\\site-packages (from pandas-profiling) (3.7.1)\n",
      "Requirement already satisfied: pydantic>=1.8.1 in c:\\users\\niran\\anaconda3\\lib\\site-packages (from pandas-profiling) (1.10.13)\n",
      "Requirement already satisfied: PyYAML>=5.0.0 in c:\\users\\niran\\anaconda3\\lib\\site-packages (from pandas-profiling) (6.0)\n",
      "Requirement already satisfied: jinja2>=2.11.1 in c:\\users\\niran\\anaconda3\\lib\\site-packages (from pandas-profiling) (3.1.2)\n",
      "Requirement already satisfied: markupsafe~=2.1.1 in c:\\users\\niran\\anaconda3\\lib\\site-packages (from pandas-profiling) (2.1.1)\n",
      "Requirement already satisfied: visions[type_image_path]==0.7.4 in c:\\users\\niran\\anaconda3\\lib\\site-packages (from pandas-profiling) (0.7.4)\n",
      "Requirement already satisfied: numpy>=1.16.0 in c:\\users\\niran\\anaconda3\\lib\\site-packages (from pandas-profiling) (1.23.5)\n",
      "Requirement already satisfied: htmlmin>=0.1.12 in c:\\users\\niran\\anaconda3\\lib\\site-packages (from pandas-profiling) (0.1.12)\n",
      "Requirement already satisfied: missingno>=0.4.2 in c:\\users\\niran\\anaconda3\\lib\\site-packages (from pandas-profiling) (0.5.2)\n",
      "Requirement already satisfied: phik>=0.11.1 in c:\\users\\niran\\anaconda3\\lib\\site-packages (from pandas-profiling) (0.12.3)\n",
      "Requirement already satisfied: tangled-up-in-unicode==0.2.0 in c:\\users\\niran\\anaconda3\\lib\\site-packages (from pandas-profiling) (0.2.0)\n",
      "Requirement already satisfied: requests>=2.24.0 in c:\\users\\niran\\anaconda3\\lib\\site-packages (from pandas-profiling) (2.31.0)\n",
      "Requirement already satisfied: tqdm>=4.48.2 in c:\\users\\niran\\anaconda3\\lib\\site-packages (from pandas-profiling) (4.65.0)\n",
      "Requirement already satisfied: seaborn>=0.10.1 in c:\\users\\niran\\anaconda3\\lib\\site-packages (from pandas-profiling) (0.12.2)\n",
      "Requirement already satisfied: multimethod>=1.4 in c:\\users\\niran\\anaconda3\\lib\\site-packages (from pandas-profiling) (1.10)\n",
      "Requirement already satisfied: attrs>=19.3.0 in c:\\users\\niran\\anaconda3\\lib\\site-packages (from visions[type_image_path]==0.7.4->pandas-profiling) (22.1.0)\n",
      "Requirement already satisfied: networkx>=2.4 in c:\\users\\niran\\anaconda3\\lib\\site-packages (from visions[type_image_path]==0.7.4->pandas-profiling) (3.1)\n",
      "Requirement already satisfied: imagehash in c:\\users\\niran\\anaconda3\\lib\\site-packages (from visions[type_image_path]==0.7.4->pandas-profiling) (4.3.1)\n",
      "Requirement already satisfied: Pillow in c:\\users\\niran\\anaconda3\\lib\\site-packages (from visions[type_image_path]==0.7.4->pandas-profiling) (9.4.0)\n",
      "Requirement already satisfied: contourpy>=1.0.1 in c:\\users\\niran\\anaconda3\\lib\\site-packages (from matplotlib>=3.2.0->pandas-profiling) (1.0.5)\n",
      "Requirement already satisfied: cycler>=0.10 in c:\\users\\niran\\anaconda3\\lib\\site-packages (from matplotlib>=3.2.0->pandas-profiling) (0.11.0)\n",
      "Requirement already satisfied: fonttools>=4.22.0 in c:\\users\\niran\\anaconda3\\lib\\site-packages (from matplotlib>=3.2.0->pandas-profiling) (4.25.0)\n",
      "Requirement already satisfied: kiwisolver>=1.0.1 in c:\\users\\niran\\anaconda3\\lib\\site-packages (from matplotlib>=3.2.0->pandas-profiling) (1.4.4)\n",
      "Requirement already satisfied: packaging>=20.0 in c:\\users\\niran\\anaconda3\\lib\\site-packages (from matplotlib>=3.2.0->pandas-profiling) (23.0)\n",
      "Requirement already satisfied: pyparsing>=2.3.1 in c:\\users\\niran\\anaconda3\\lib\\site-packages (from matplotlib>=3.2.0->pandas-profiling) (3.0.9)\n",
      "Requirement already satisfied: python-dateutil>=2.7 in c:\\users\\niran\\anaconda3\\lib\\site-packages (from matplotlib>=3.2.0->pandas-profiling) (2.8.2)\n",
      "Requirement already satisfied: pytz>=2020.1 in c:\\users\\niran\\anaconda3\\lib\\site-packages (from pandas!=1.0.0,!=1.0.1,!=1.0.2,!=1.1.0,>=0.25.3->pandas-profiling) (2022.7)\n",
      "Requirement already satisfied: typing-extensions>=4.2.0 in c:\\users\\niran\\anaconda3\\lib\\site-packages (from pydantic>=1.8.1->pandas-profiling) (4.7.1)\n",
      "Requirement already satisfied: charset-normalizer<4,>=2 in c:\\users\\niran\\anaconda3\\lib\\site-packages (from requests>=2.24.0->pandas-profiling) (2.0.4)\n",
      "Requirement already satisfied: idna<4,>=2.5 in c:\\users\\niran\\anaconda3\\lib\\site-packages (from requests>=2.24.0->pandas-profiling) (3.4)\n",
      "Requirement already satisfied: urllib3<3,>=1.21.1 in c:\\users\\niran\\anaconda3\\lib\\site-packages (from requests>=2.24.0->pandas-profiling) (1.26.16)\n",
      "Requirement already satisfied: certifi>=2017.4.17 in c:\\users\\niran\\anaconda3\\lib\\site-packages (from requests>=2.24.0->pandas-profiling) (2023.7.22)\n",
      "Requirement already satisfied: colorama in c:\\users\\niran\\anaconda3\\lib\\site-packages (from tqdm>=4.48.2->pandas-profiling) (0.4.6)\n",
      "Requirement already satisfied: six>=1.5 in c:\\users\\niran\\anaconda3\\lib\\site-packages (from python-dateutil>=2.7->matplotlib>=3.2.0->pandas-profiling) (1.16.0)\n",
      "Requirement already satisfied: PyWavelets in c:\\users\\niran\\anaconda3\\lib\\site-packages (from imagehash->visions[type_image_path]==0.7.4->pandas-profiling) (1.4.1)\n"
     ]
    }
   ],
   "source": [
    "!pip install pandas-profiling\n"
   ]
  },
  {
   "cell_type": "code",
   "execution_count": 22,
   "id": "b3f9b95d",
   "metadata": {},
   "outputs": [
    {
     "name": "stderr",
     "output_type": "stream",
     "text": [
      "C:\\Users\\niran\\anaconda3\\Lib\\site-packages\\numba\\core\\decorators.py:262: NumbaDeprecationWarning: \u001b[1mnumba.generated_jit is deprecated. Please see the documentation at: https://numba.readthedocs.io/en/stable/reference/deprecation.html#deprecation-of-generated-jit for more information and advice on a suitable replacement.\u001b[0m\n",
      "  warnings.warn(msg, NumbaDeprecationWarning)\n",
      "C:\\Users\\niran\\anaconda3\\Lib\\site-packages\\visions\\backends\\shared\\nan_handling.py:50: NumbaDeprecationWarning: \u001b[1mThe 'nopython' keyword argument was not supplied to the 'numba.jit' decorator. The implicit default value for this argument is currently False, but it will be changed to True in Numba 0.59.0. See https://numba.readthedocs.io/en/stable/reference/deprecation.html#deprecation-of-object-mode-fall-back-behaviour-when-using-jit for details.\u001b[0m\n",
      "  @nb.jit\n",
      "C:\\Users\\niran\\AppData\\Local\\Temp\\ipykernel_13772\\3063248848.py:1: DeprecationWarning: `import pandas_profiling` is going to be deprecated by April 1st. Please use `import ydata_profiling` instead.\n",
      "  from pandas_profiling import ProfileReport\n"
     ]
    }
   ],
   "source": [
    "from pandas_profiling import ProfileReport\n"
   ]
  },
  {
   "cell_type": "code",
   "execution_count": 23,
   "id": "4870c45a",
   "metadata": {
    "scrolled": true
   },
   "outputs": [
    {
     "name": "stdout",
     "output_type": "stream",
     "text": [
      "Requirement already satisfied: pydantic-settings in c:\\users\\niran\\anaconda3\\lib\\site-packages (2.0.3)\n",
      "Collecting pydantic>=2.0.1 (from pydantic-settings)\n",
      "  Obtaining dependency information for pydantic>=2.0.1 from https://files.pythonhosted.org/packages/42/28/f19be8d493c59a8ddf32c15d69765c6423ad712da1c6255b418df2fc1443/pydantic-2.6.2-py3-none-any.whl.metadata\n",
      "  Downloading pydantic-2.6.2-py3-none-any.whl.metadata (83 kB)\n",
      "     ---------------------------------------- 0.0/84.0 kB ? eta -:--:--\n",
      "     -------------- ------------------------- 30.7/84.0 kB 1.4 MB/s eta 0:00:01\n",
      "     ----------------------------- ---------- 61.4/84.0 kB 1.1 MB/s eta 0:00:01\n",
      "     -------------------------------------- 84.0/84.0 kB 793.0 kB/s eta 0:00:00\n",
      "Requirement already satisfied: python-dotenv>=0.21.0 in c:\\users\\niran\\anaconda3\\lib\\site-packages (from pydantic-settings) (1.0.0)\n",
      "Requirement already satisfied: annotated-types>=0.4.0 in c:\\users\\niran\\anaconda3\\lib\\site-packages (from pydantic>=2.0.1->pydantic-settings) (0.6.0)\n",
      "Collecting pydantic-core==2.16.3 (from pydantic>=2.0.1->pydantic-settings)\n",
      "  Obtaining dependency information for pydantic-core==2.16.3 from https://files.pythonhosted.org/packages/2d/8a/6b16ba811d1b3499fa550a13913e0b053a15300d53fe1dd891e004c2dbd3/pydantic_core-2.16.3-cp311-none-win_amd64.whl.metadata\n",
      "  Downloading pydantic_core-2.16.3-cp311-none-win_amd64.whl.metadata (6.6 kB)\n",
      "Requirement already satisfied: typing-extensions>=4.6.1 in c:\\users\\niran\\anaconda3\\lib\\site-packages (from pydantic>=2.0.1->pydantic-settings) (4.7.1)\n",
      "Downloading pydantic-2.6.2-py3-none-any.whl (394 kB)\n",
      "   ---------------------------------------- 0.0/394.9 kB ? eta -:--:--\n",
      "   ------ --------------------------------- 61.4/394.9 kB 1.1 MB/s eta 0:00:01\n",
      "   ----------- ---------------------------- 112.6/394.9 kB 1.3 MB/s eta 0:00:01\n",
      "   ------------------- -------------------- 194.6/394.9 kB 1.3 MB/s eta 0:00:01\n",
      "   ---------------------- ----------------- 225.3/394.9 kB 1.4 MB/s eta 0:00:01\n",
      "   ------------------------------ --------- 297.0/394.9 kB 1.3 MB/s eta 0:00:01\n",
      "   -------------------------------- ------- 317.4/394.9 kB 1.3 MB/s eta 0:00:01\n",
      "   -------------------------------- ------- 317.4/394.9 kB 1.3 MB/s eta 0:00:01\n",
      "   ---------------------------------------- 394.9/394.9 kB 1.1 MB/s eta 0:00:00\n",
      "Downloading pydantic_core-2.16.3-cp311-none-win_amd64.whl (1.9 MB)\n",
      "   ---------------------------------------- 0.0/1.9 MB ? eta -:--:--\n",
      "   - -------------------------------------- 0.1/1.9 MB 2.7 MB/s eta 0:00:01\n",
      "   --- ------------------------------------ 0.2/1.9 MB 2.0 MB/s eta 0:00:01\n",
      "   ---- ----------------------------------- 0.2/1.9 MB 1.7 MB/s eta 0:00:01\n",
      "   ----- ---------------------------------- 0.2/1.9 MB 1.4 MB/s eta 0:00:02\n",
      "   ------- -------------------------------- 0.3/1.9 MB 1.5 MB/s eta 0:00:02\n",
      "   -------- ------------------------------- 0.4/1.9 MB 1.5 MB/s eta 0:00:01\n",
      "   ---------- ----------------------------- 0.5/1.9 MB 1.6 MB/s eta 0:00:01\n",
      "   ----------- ---------------------------- 0.5/1.9 MB 1.5 MB/s eta 0:00:01\n",
      "   ------------ --------------------------- 0.6/1.9 MB 1.4 MB/s eta 0:00:01\n",
      "   ------------- -------------------------- 0.6/1.9 MB 1.5 MB/s eta 0:00:01\n",
      "   --------------- ------------------------ 0.7/1.9 MB 1.4 MB/s eta 0:00:01\n",
      "   ---------------- ----------------------- 0.8/1.9 MB 1.4 MB/s eta 0:00:01\n",
      "   ------------------ --------------------- 0.9/1.9 MB 1.4 MB/s eta 0:00:01\n",
      "   ------------------- -------------------- 0.9/1.9 MB 1.4 MB/s eta 0:00:01\n",
      "   --------------------- ------------------ 1.0/1.9 MB 1.4 MB/s eta 0:00:01\n",
      "   ---------------------- ----------------- 1.1/1.9 MB 1.5 MB/s eta 0:00:01\n",
      "   ---------------------- ----------------- 1.1/1.9 MB 1.4 MB/s eta 0:00:01\n",
      "   ---------------------- ----------------- 1.1/1.9 MB 1.4 MB/s eta 0:00:01\n",
      "   ----------------------- ---------------- 1.1/1.9 MB 1.3 MB/s eta 0:00:01\n",
      "   ------------------------ --------------- 1.1/1.9 MB 1.2 MB/s eta 0:00:01\n",
      "   ------------------------ --------------- 1.1/1.9 MB 1.2 MB/s eta 0:00:01\n",
      "   ------------------------ --------------- 1.2/1.9 MB 1.1 MB/s eta 0:00:01\n",
      "   ------------------------- -------------- 1.2/1.9 MB 1.1 MB/s eta 0:00:01\n",
      "   -------------------------- ------------- 1.2/1.9 MB 1.1 MB/s eta 0:00:01\n",
      "   -------------------------- ------------- 1.3/1.9 MB 1.1 MB/s eta 0:00:01\n",
      "   --------------------------- ------------ 1.3/1.9 MB 1.1 MB/s eta 0:00:01\n",
      "   --------------------------- ------------ 1.3/1.9 MB 1.1 MB/s eta 0:00:01\n",
      "   ---------------------------- ----------- 1.3/1.9 MB 1.0 MB/s eta 0:00:01\n",
      "   ---------------------------- ----------- 1.3/1.9 MB 990.5 kB/s eta 0:00:01\n",
      "   ---------------------------- ----------- 1.3/1.9 MB 990.5 kB/s eta 0:00:01\n",
      "   ---------------------------- ----------- 1.3/1.9 MB 990.5 kB/s eta 0:00:01\n",
      "   ---------------------------- ----------- 1.3/1.9 MB 990.5 kB/s eta 0:00:01\n",
      "   ---------------------------- ----------- 1.3/1.9 MB 990.5 kB/s eta 0:00:01\n",
      "   ---------------------------- ----------- 1.3/1.9 MB 990.5 kB/s eta 0:00:01\n",
      "   ---------------------------- ----------- 1.3/1.9 MB 990.5 kB/s eta 0:00:01\n",
      "   ---------------------------- ----------- 1.3/1.9 MB 990.5 kB/s eta 0:00:01\n",
      "   ---------------------------- ----------- 1.3/1.9 MB 990.5 kB/s eta 0:00:01\n",
      "   ---------------------------- ----------- 1.3/1.9 MB 990.5 kB/s eta 0:00:01\n",
      "   ---------------------------- ----------- 1.3/1.9 MB 990.5 kB/s eta 0:00:01\n",
      "   ---------------------------- ----------- 1.3/1.9 MB 990.5 kB/s eta 0:00:01\n",
      "   ------------------------------ --------- 1.4/1.9 MB 746.8 kB/s eta 0:00:01\n",
      "   --------------------------------- ------ 1.6/1.9 MB 791.7 kB/s eta 0:00:01\n",
      "   --------------------------------- ------ 1.6/1.9 MB 791.7 kB/s eta 0:00:01\n",
      "   --------------------------------- ------ 1.6/1.9 MB 791.7 kB/s eta 0:00:01\n",
      "   --------------------------------- ------ 1.6/1.9 MB 791.7 kB/s eta 0:00:01\n",
      "   ---------------------------------- ----- 1.6/1.9 MB 751.3 kB/s eta 0:00:01\n",
      "   ---------------------------------- ----- 1.6/1.9 MB 751.3 kB/s eta 0:00:01\n",
      "   ---------------------------------- ----- 1.6/1.9 MB 751.3 kB/s eta 0:00:01\n",
      "   ----------------------------------- ---- 1.7/1.9 MB 717.7 kB/s eta 0:00:01\n",
      "   ----------------------------------- ---- 1.7/1.9 MB 721.9 kB/s eta 0:00:01\n",
      "   ------------------------------------ --- 1.7/1.9 MB 719.8 kB/s eta 0:00:01\n",
      "   ------------------------------------- -- 1.7/1.9 MB 710.1 kB/s eta 0:00:01\n",
      "   ------------------------------------- -- 1.8/1.9 MB 704.5 kB/s eta 0:00:01\n",
      "   -------------------------------------- - 1.8/1.9 MB 712.1 kB/s eta 0:00:01\n",
      "   ---------------------------------------  1.9/1.9 MB 722.9 kB/s eta 0:00:01\n",
      "   ---------------------------------------- 1.9/1.9 MB 721.2 kB/s eta 0:00:00\n",
      "Installing collected packages: pydantic-core, pydantic\n",
      "  Attempting uninstall: pydantic-core\n",
      "    Found existing installation: pydantic_core 2.10.1\n",
      "    Uninstalling pydantic_core-2.10.1:\n",
      "      Successfully uninstalled pydantic_core-2.10.1\n",
      "  Attempting uninstall: pydantic\n",
      "    Found existing installation: pydantic 1.10.13\n",
      "    Uninstalling pydantic-1.10.13:\n",
      "      Successfully uninstalled pydantic-1.10.13\n"
     ]
    },
    {
     "name": "stderr",
     "output_type": "stream",
     "text": [
      "ERROR: Could not install packages due to an OSError: [WinError 5] Access is denied: 'C:\\\\Users\\\\niran\\\\anaconda3\\\\Lib\\\\site-packages\\\\~-dantic\\\\annotated_types.cp311-win_amd64.pyd'\n",
      "Consider using the `--user` option or check the permissions.\n",
      "\n"
     ]
    }
   ],
   "source": [
    "!pip install pydantic-settings\n"
   ]
  },
  {
   "cell_type": "code",
   "execution_count": null,
   "id": "c58063a1",
   "metadata": {},
   "outputs": [],
   "source": []
  },
  {
   "cell_type": "code",
   "execution_count": 24,
   "id": "4045aa28",
   "metadata": {},
   "outputs": [
    {
     "name": "stdout",
     "output_type": "stream",
     "text": [
      "Note: you may need to restart the kernel to use updated packages.\n",
      "Requirement already satisfied: ydata-profiling in c:\\users\\niran\\anaconda3\\lib\\site-packages (4.5.1)\n",
      "Requirement already satisfied: scipy<1.12,>=1.4.1 in c:\\users\\niran\\anaconda3\\lib\\site-packages (from ydata-profiling) (1.10.1)\n",
      "Requirement already satisfied: pandas!=1.4.0,<2.1,>1.1 in c:\\users\\niran\\anaconda3\\lib\\site-packages (from ydata-profiling) (1.5.3)\n",
      "Requirement already satisfied: matplotlib<4,>=3.2 in c:\\users\\niran\\anaconda3\\lib\\site-packages (from ydata-profiling) (3.7.1)\n",
      "Collecting pydantic<2,>=1.8.1 (from ydata-profiling)\n",
      "  Obtaining dependency information for pydantic<2,>=1.8.1 from https://files.pythonhosted.org/packages/18/9c/c84ead4e65e85dbb3b9806e8390db91b82993f5248fdfe9dacdd4da9c726/pydantic-1.10.14-cp311-cp311-win_amd64.whl.metadata\n",
      "  Downloading pydantic-1.10.14-cp311-cp311-win_amd64.whl.metadata (151 kB)\n",
      "     ---------------------------------------- 0.0/151.6 kB ? eta -:--:--\n",
      "     ------- ----------------------------- 30.7/151.6 kB 640.0 kB/s eta 0:00:01\n",
      "     --------- --------------------------- 41.0/151.6 kB 487.6 kB/s eta 0:00:01\n",
      "     ----------------- ------------------- 71.7/151.6 kB 653.6 kB/s eta 0:00:01\n",
      "     ----------------- ------------------- 71.7/151.6 kB 653.6 kB/s eta 0:00:01\n",
      "     ----------------- ------------------- 71.7/151.6 kB 653.6 kB/s eta 0:00:01\n",
      "     ---------------------- -------------- 92.2/151.6 kB 401.6 kB/s eta 0:00:01\n",
      "     ------------------------------------ 151.6/151.6 kB 565.3 kB/s eta 0:00:00\n",
      "Requirement already satisfied: PyYAML<6.1,>=5.0.0 in c:\\users\\niran\\anaconda3\\lib\\site-packages (from ydata-profiling) (6.0)\n",
      "Requirement already satisfied: jinja2<3.2,>=2.11.1 in c:\\users\\niran\\anaconda3\\lib\\site-packages (from ydata-profiling) (3.1.2)\n",
      "Collecting visions[type_image_path]==0.7.5 (from ydata-profiling)\n",
      "  Obtaining dependency information for visions[type_image_path]==0.7.5 from https://files.pythonhosted.org/packages/62/fa/6a8539c83d2ccbd08d5f0c843b1784af9ff514e77f4c9d5d6800fdd340f6/visions-0.7.5-py3-none-any.whl.metadata\n",
      "  Downloading visions-0.7.5-py3-none-any.whl.metadata (6.3 kB)\n",
      "Requirement already satisfied: numpy<1.24,>=1.16.0 in c:\\users\\niran\\anaconda3\\lib\\site-packages (from ydata-profiling) (1.23.5)\n",
      "Requirement already satisfied: htmlmin==0.1.12 in c:\\users\\niran\\anaconda3\\lib\\site-packages (from ydata-profiling) (0.1.12)\n",
      "Requirement already satisfied: phik<0.13,>=0.11.1 in c:\\users\\niran\\anaconda3\\lib\\site-packages (from ydata-profiling) (0.12.3)\n",
      "Requirement already satisfied: requests<3,>=2.24.0 in c:\\users\\niran\\anaconda3\\lib\\site-packages (from ydata-profiling) (2.31.0)\n",
      "Requirement already satisfied: tqdm<5,>=4.48.2 in c:\\users\\niran\\anaconda3\\lib\\site-packages (from ydata-profiling) (4.65.0)\n",
      "Requirement already satisfied: seaborn<0.13,>=0.10.1 in c:\\users\\niran\\anaconda3\\lib\\site-packages (from ydata-profiling) (0.12.2)\n",
      "Requirement already satisfied: multimethod<2,>=1.4 in c:\\users\\niran\\anaconda3\\lib\\site-packages (from ydata-profiling) (1.10)\n",
      "Requirement already satisfied: statsmodels<1,>=0.13.2 in c:\\users\\niran\\anaconda3\\lib\\site-packages (from ydata-profiling) (0.14.0)\n",
      "Requirement already satisfied: typeguard<3,>=2.13.2 in c:\\users\\niran\\anaconda3\\lib\\site-packages (from ydata-profiling) (2.13.3)\n",
      "Requirement already satisfied: imagehash==4.3.1 in c:\\users\\niran\\anaconda3\\lib\\site-packages (from ydata-profiling) (4.3.1)\n",
      "Requirement already satisfied: wordcloud>=1.9.1 in c:\\users\\niran\\anaconda3\\lib\\site-packages (from ydata-profiling) (1.9.2)\n",
      "Requirement already satisfied: dacite>=1.8 in c:\\users\\niran\\anaconda3\\lib\\site-packages (from ydata-profiling) (1.8.1)\n",
      "Requirement already satisfied: PyWavelets in c:\\users\\niran\\anaconda3\\lib\\site-packages (from imagehash==4.3.1->ydata-profiling) (1.4.1)\n",
      "Requirement already satisfied: pillow in c:\\users\\niran\\anaconda3\\lib\\site-packages (from imagehash==4.3.1->ydata-profiling) (9.4.0)\n",
      "Requirement already satisfied: attrs>=19.3.0 in c:\\users\\niran\\anaconda3\\lib\\site-packages (from visions[type_image_path]==0.7.5->ydata-profiling) (22.1.0)\n",
      "Requirement already satisfied: networkx>=2.4 in c:\\users\\niran\\anaconda3\\lib\\site-packages (from visions[type_image_path]==0.7.5->ydata-profiling) (3.1)\n",
      "Requirement already satisfied: tangled-up-in-unicode>=0.0.4 in c:\\users\\niran\\anaconda3\\lib\\site-packages (from visions[type_image_path]==0.7.5->ydata-profiling) (0.2.0)\n",
      "Requirement already satisfied: MarkupSafe>=2.0 in c:\\users\\niran\\anaconda3\\lib\\site-packages (from jinja2<3.2,>=2.11.1->ydata-profiling) (2.1.1)\n",
      "Requirement already satisfied: contourpy>=1.0.1 in c:\\users\\niran\\anaconda3\\lib\\site-packages (from matplotlib<4,>=3.2->ydata-profiling) (1.0.5)\n",
      "Requirement already satisfied: cycler>=0.10 in c:\\users\\niran\\anaconda3\\lib\\site-packages (from matplotlib<4,>=3.2->ydata-profiling) (0.11.0)\n",
      "Requirement already satisfied: fonttools>=4.22.0 in c:\\users\\niran\\anaconda3\\lib\\site-packages (from matplotlib<4,>=3.2->ydata-profiling) (4.25.0)\n",
      "Requirement already satisfied: kiwisolver>=1.0.1 in c:\\users\\niran\\anaconda3\\lib\\site-packages (from matplotlib<4,>=3.2->ydata-profiling) (1.4.4)\n",
      "Requirement already satisfied: packaging>=20.0 in c:\\users\\niran\\anaconda3\\lib\\site-packages (from matplotlib<4,>=3.2->ydata-profiling) (23.0)\n",
      "Requirement already satisfied: pyparsing>=2.3.1 in c:\\users\\niran\\anaconda3\\lib\\site-packages (from matplotlib<4,>=3.2->ydata-profiling) (3.0.9)\n",
      "Requirement already satisfied: python-dateutil>=2.7 in c:\\users\\niran\\anaconda3\\lib\\site-packages (from matplotlib<4,>=3.2->ydata-profiling) (2.8.2)\n",
      "Requirement already satisfied: pytz>=2020.1 in c:\\users\\niran\\anaconda3\\lib\\site-packages (from pandas!=1.4.0,<2.1,>1.1->ydata-profiling) (2022.7)\n",
      "Requirement already satisfied: joblib>=0.14.1 in c:\\users\\niran\\anaconda3\\lib\\site-packages (from phik<0.13,>=0.11.1->ydata-profiling) (1.1.1)\n",
      "Requirement already satisfied: typing-extensions>=4.2.0 in c:\\users\\niran\\anaconda3\\lib\\site-packages (from pydantic<2,>=1.8.1->ydata-profiling) (4.7.1)\n",
      "Requirement already satisfied: charset-normalizer<4,>=2 in c:\\users\\niran\\anaconda3\\lib\\site-packages (from requests<3,>=2.24.0->ydata-profiling) (2.0.4)\n",
      "Requirement already satisfied: idna<4,>=2.5 in c:\\users\\niran\\anaconda3\\lib\\site-packages (from requests<3,>=2.24.0->ydata-profiling) (3.4)\n",
      "Requirement already satisfied: urllib3<3,>=1.21.1 in c:\\users\\niran\\anaconda3\\lib\\site-packages (from requests<3,>=2.24.0->ydata-profiling) (1.26.16)\n",
      "Requirement already satisfied: certifi>=2017.4.17 in c:\\users\\niran\\anaconda3\\lib\\site-packages (from requests<3,>=2.24.0->ydata-profiling) (2023.7.22)\n",
      "Requirement already satisfied: patsy>=0.5.2 in c:\\users\\niran\\anaconda3\\lib\\site-packages (from statsmodels<1,>=0.13.2->ydata-profiling) (0.5.3)\n",
      "Requirement already satisfied: colorama in c:\\users\\niran\\anaconda3\\lib\\site-packages (from tqdm<5,>=4.48.2->ydata-profiling) (0.4.6)\n",
      "Requirement already satisfied: six in c:\\users\\niran\\anaconda3\\lib\\site-packages (from patsy>=0.5.2->statsmodels<1,>=0.13.2->ydata-profiling) (1.16.0)\n",
      "Downloading pydantic-1.10.14-cp311-cp311-win_amd64.whl (2.1 MB)\n",
      "   ---------------------------------------- 0.0/2.1 MB ? eta -:--:--\n",
      "    --------------------------------------- 0.0/2.1 MB 1.3 MB/s eta 0:00:02\n",
      "   - -------------------------------------- 0.1/2.1 MB 825.8 kB/s eta 0:00:03\n",
      "   - -------------------------------------- 0.1/2.1 MB 845.5 kB/s eta 0:00:03\n",
      "   -- ------------------------------------- 0.1/2.1 MB 853.3 kB/s eta 0:00:03\n",
      "   --- ------------------------------------ 0.2/2.1 MB 807.1 kB/s eta 0:00:03\n",
      "   --- ------------------------------------ 0.2/2.1 MB 908.0 kB/s eta 0:00:03\n",
      "   ---- ----------------------------------- 0.2/2.1 MB 758.5 kB/s eta 0:00:03\n",
      "   ----- ---------------------------------- 0.3/2.1 MB 811.7 kB/s eta 0:00:03\n",
      "   ----- ---------------------------------- 0.3/2.1 MB 827.2 kB/s eta 0:00:03\n",
      "   ------ --------------------------------- 0.4/2.1 MB 849.3 kB/s eta 0:00:03\n",
      "   ------- -------------------------------- 0.4/2.1 MB 859.0 kB/s eta 0:00:02\n",
      "   -------- ------------------------------- 0.5/2.1 MB 829.2 kB/s eta 0:00:03\n",
      "   -------- ------------------------------- 0.5/2.1 MB 829.2 kB/s eta 0:00:03\n",
      "   --------- ------------------------------ 0.5/2.1 MB 753.7 kB/s eta 0:00:03\n",
      "   ---------- ----------------------------- 0.5/2.1 MB 777.1 kB/s eta 0:00:03\n",
      "   ---------- ----------------------------- 0.6/2.1 MB 769.1 kB/s eta 0:00:03\n",
      "   ----------- ---------------------------- 0.6/2.1 MB 805.5 kB/s eta 0:00:02\n",
      "   ------------- -------------------------- 0.7/2.1 MB 832.3 kB/s eta 0:00:02\n",
      "   ------------- -------------------------- 0.7/2.1 MB 861.4 kB/s eta 0:00:02\n",
      "   --------------- ------------------------ 0.8/2.1 MB 870.3 kB/s eta 0:00:02\n",
      "   ---------------- ----------------------- 0.8/2.1 MB 881.1 kB/s eta 0:00:02\n",
      "   ----------------- ---------------------- 0.9/2.1 MB 901.1 kB/s eta 0:00:02\n",
      "   ------------------ --------------------- 1.0/2.1 MB 909.6 kB/s eta 0:00:02\n",
      "   ------------------- -------------------- 1.0/2.1 MB 936.0 kB/s eta 0:00:02\n",
      "   -------------------- ------------------- 1.1/2.1 MB 924.4 kB/s eta 0:00:02\n",
      "   -------------------- ------------------- 1.1/2.1 MB 897.2 kB/s eta 0:00:02\n",
      "   -------------------- ------------------- 1.1/2.1 MB 897.2 kB/s eta 0:00:02\n",
      "   --------------------- ------------------ 1.1/2.1 MB 873.6 kB/s eta 0:00:02\n",
      "   --------------------- ------------------ 1.1/2.1 MB 866.3 kB/s eta 0:00:02\n",
      "   --------------------- ------------------ 1.2/2.1 MB 853.3 kB/s eta 0:00:02\n",
      "   ---------------------- ----------------- 1.2/2.1 MB 861.3 kB/s eta 0:00:02\n",
      "   ----------------------- ---------------- 1.3/2.1 MB 850.4 kB/s eta 0:00:02\n",
      "   ------------------------ --------------- 1.3/2.1 MB 857.8 kB/s eta 0:00:01\n",
      "   ------------------------- -------------- 1.4/2.1 MB 865.4 kB/s eta 0:00:01\n",
      "   -------------------------- ------------- 1.4/2.1 MB 865.5 kB/s eta 0:00:01\n",
      "   --------------------------- ------------ 1.4/2.1 MB 873.6 kB/s eta 0:00:01\n",
      "   --------------------------- ------------ 1.5/2.1 MB 875.8 kB/s eta 0:00:01\n",
      "   ---------------------------- ----------- 1.5/2.1 MB 874.0 kB/s eta 0:00:01\n",
      "   ----------------------------- ---------- 1.6/2.1 MB 866.2 kB/s eta 0:00:01\n",
      "   ------------------------------ --------- 1.6/2.1 MB 870.3 kB/s eta 0:00:01\n",
      "   ------------------------------ --------- 1.6/2.1 MB 852.0 kB/s eta 0:00:01\n",
      "   ------------------------------- -------- 1.6/2.1 MB 845.8 kB/s eta 0:00:01\n",
      "   -------------------------------- ------- 1.7/2.1 MB 839.7 kB/s eta 0:00:01\n",
      "   -------------------------------- ------- 1.7/2.1 MB 849.9 kB/s eta 0:00:01\n",
      "   -------------------------------- ------- 1.7/2.1 MB 840.4 kB/s eta 0:00:01\n",
      "   -------------------------------- ------- 1.7/2.1 MB 826.4 kB/s eta 0:00:01\n",
      "   -------------------------------- ------- 1.7/2.1 MB 826.4 kB/s eta 0:00:01\n",
      "   --------------------------------- ------ 1.8/2.1 MB 800.7 kB/s eta 0:00:01\n",
      "   --------------------------------- ------ 1.8/2.1 MB 788.4 kB/s eta 0:00:01\n",
      "   --------------------------------- ------ 1.8/2.1 MB 781.1 kB/s eta 0:00:01\n",
      "   ---------------------------------- ----- 1.8/2.1 MB 774.2 kB/s eta 0:00:01\n",
      "   ---------------------------------- ----- 1.8/2.1 MB 774.2 kB/s eta 0:00:01\n",
      "   ---------------------------------- ----- 1.8/2.1 MB 774.2 kB/s eta 0:00:01\n",
      "   ---------------------------------- ----- 1.8/2.1 MB 774.2 kB/s eta 0:00:01\n",
      "   ---------------------------------- ----- 1.8/2.1 MB 774.2 kB/s eta 0:00:01\n",
      "   ---------------------------------- ----- 1.8/2.1 MB 774.2 kB/s eta 0:00:01\n",
      "   ---------------------------------- ----- 1.8/2.1 MB 774.2 kB/s eta 0:00:01\n",
      "   ---------------------------------- ----- 1.8/2.1 MB 774.2 kB/s eta 0:00:01\n",
      "   ---------------------------------- ----- 1.8/2.1 MB 774.2 kB/s eta 0:00:01\n",
      "   ---------------------------------------  2.1/2.1 MB 744.1 kB/s eta 0:00:01\n",
      "   ---------------------------------------  2.1/2.1 MB 744.1 kB/s eta 0:00:01\n",
      "   ---------------------------------------  2.1/2.1 MB 730.9 kB/s eta 0:00:01\n",
      "   ---------------------------------------- 2.1/2.1 MB 730.7 kB/s eta 0:00:00\n",
      "Using cached visions-0.7.5-py3-none-any.whl (102 kB)\n",
      "Installing collected packages: pydantic, visions\n",
      "  Attempting uninstall: pydantic\n",
      "    Found existing installation: pydantic 2.6.2\n",
      "    Uninstalling pydantic-2.6.2:\n",
      "      Successfully uninstalled pydantic-2.6.2\n",
      "  Attempting uninstall: visions\n",
      "    Found existing installation: visions 0.7.4\n",
      "    Uninstalling visions-0.7.4:\n",
      "      Successfully uninstalled visions-0.7.4\n",
      "Successfully installed pydantic-1.10.14 visions-0.7.5\n"
     ]
    },
    {
     "name": "stderr",
     "output_type": "stream",
     "text": [
      "ERROR: pip's dependency resolver does not currently take into account all the packages that are installed. This behaviour is the source of the following dependency conflicts.\n",
      "pandas-profiling 3.2.0 requires visions[type_image_path]==0.7.4, but you have visions 0.7.5 which is incompatible.\n",
      "pydantic-settings 2.0.3 requires pydantic>=2.0.1, but you have pydantic 1.10.14 which is incompatible.\n"
     ]
    }
   ],
   "source": [
    "pip install ydata-profiling "
   ]
  },
  {
   "cell_type": "code",
   "execution_count": null,
   "id": "7f61fc9b",
   "metadata": {},
   "outputs": [],
   "source": []
  },
  {
   "cell_type": "code",
   "execution_count": null,
   "id": "3f8dbb81",
   "metadata": {},
   "outputs": [],
   "source": []
  },
  {
   "cell_type": "code",
   "execution_count": null,
   "id": "c8921eee",
   "metadata": {},
   "outputs": [],
   "source": []
  },
  {
   "cell_type": "code",
   "execution_count": null,
   "id": "4e401bcc",
   "metadata": {},
   "outputs": [],
   "source": []
  },
  {
   "cell_type": "code",
   "execution_count": 25,
   "id": "56b2b968",
   "metadata": {},
   "outputs": [],
   "source": [
    "from ydata_profiling import ProfileReport"
   ]
  },
  {
   "cell_type": "code",
   "execution_count": 26,
   "id": "396a567e",
   "metadata": {},
   "outputs": [
    {
     "name": "stdout",
     "output_type": "stream",
     "text": [
      "Retrieving notices: ...working... done\n",
      "Collecting package metadata (current_repodata.json): ...working... done\n",
      "Solving environment: ...working... unsuccessful initial attempt using frozen solve. Retrying with flexible solve.\n",
      "Collecting package metadata (repodata.json): ...working... done\n",
      "Solving environment: ...working... unsuccessful initial attempt using frozen solve. Retrying with flexible solve.\n"
     ]
    },
    {
     "name": "stderr",
     "output_type": "stream",
     "text": [
      "DEBUG:urllib3.connectionpool:Starting new HTTPS connection (1): repo.anaconda.com:443\n",
      "DEBUG:urllib3.connectionpool:Starting new HTTPS connection (1): repo.anaconda.com:443\n",
      "DEBUG:urllib3.connectionpool:Starting new HTTPS connection (1): conda.anaconda.org:443\n",
      "DEBUG:urllib3.connectionpool:Starting new HTTPS connection (1): repo.anaconda.com:443\n",
      "DEBUG:urllib3.connectionpool:https://repo.anaconda.com:443 \"GET /pkgs/msys2/notices.json HTTP/1.1\" 404 None\n",
      "DEBUG:urllib3.connectionpool:https://repo.anaconda.com:443 \"GET /pkgs/main/notices.json HTTP/1.1\" 404 None\n",
      "DEBUG:urllib3.connectionpool:https://repo.anaconda.com:443 \"GET /pkgs/r/notices.json HTTP/1.1\" 404 None\n",
      "DEBUG:urllib3.connectionpool:https://conda.anaconda.org:443 \"GET /anaconda/notices.json HTTP/1.1\" 404 None\n",
      "DEBUG:urllib3.connectionpool:Starting new HTTPS connection (1): conda.anaconda.org:443\n",
      "DEBUG:urllib3.connectionpool:Starting new HTTPS connection (1): conda.anaconda.org:443\n",
      "DEBUG:urllib3.connectionpool:Starting new HTTPS connection (1): repo.anaconda.com:443\n",
      "DEBUG:urllib3.connectionpool:Starting new HTTPS connection (1): repo.anaconda.com:443\n",
      "DEBUG:urllib3.connectionpool:Starting new HTTPS connection (1): repo.anaconda.com:443\n",
      "DEBUG:urllib3.connectionpool:Starting new HTTPS connection (1): repo.anaconda.com:443\n",
      "DEBUG:urllib3.connectionpool:Starting new HTTPS connection (1): repo.anaconda.com:443\n",
      "DEBUG:urllib3.connectionpool:Starting new HTTPS connection (1): repo.anaconda.com:443\n",
      "DEBUG:urllib3.connectionpool:https://repo.anaconda.com:443 \"GET /pkgs/main/win-64/current_repodata.json HTTP/1.1\" 200 None\n",
      "DEBUG:urllib3.connectionpool:https://repo.anaconda.com:443 \"GET /pkgs/r/win-64/current_repodata.json HTTP/1.1\" 304 0\n",
      "DEBUG:urllib3.connectionpool:https://repo.anaconda.com:443 \"GET /pkgs/msys2/noarch/current_repodata.json HTTP/1.1\" 304 0\n",
      "DEBUG:urllib3.connectionpool:https://repo.anaconda.com:443 \"GET /pkgs/main/noarch/current_repodata.json HTTP/1.1\" 200 None\n",
      "DEBUG:urllib3.connectionpool:https://repo.anaconda.com:443 \"GET /pkgs/r/noarch/current_repodata.json HTTP/1.1\" 200 None\n",
      "DEBUG:urllib3.connectionpool:https://conda.anaconda.org:443 \"GET /anaconda/noarch/current_repodata.json HTTP/1.1\" 200 None\n",
      "DEBUG:urllib3.connectionpool:https://repo.anaconda.com:443 \"GET /pkgs/msys2/win-64/current_repodata.json HTTP/1.1\" 304 0\n",
      "DEBUG:urllib3.connectionpool:https://conda.anaconda.org:443 \"GET /anaconda/win-64/current_repodata.json HTTP/1.1\" 200 None\n",
      "DEBUG:urllib3.connectionpool:Starting new HTTPS connection (1): repo.anaconda.com:443\n",
      "DEBUG:urllib3.connectionpool:Starting new HTTPS connection (1): repo.anaconda.com:443\n",
      "DEBUG:urllib3.connectionpool:Starting new HTTPS connection (1): repo.anaconda.com:443\n",
      "DEBUG:urllib3.connectionpool:Starting new HTTPS connection (1): conda.anaconda.org:443\n",
      "DEBUG:urllib3.connectionpool:Starting new HTTPS connection (1): conda.anaconda.org:443\n",
      "DEBUG:urllib3.connectionpool:Starting new HTTPS connection (1): repo.anaconda.com:443\n",
      "DEBUG:urllib3.connectionpool:Starting new HTTPS connection (1): repo.anaconda.com:443\n",
      "DEBUG:urllib3.connectionpool:Starting new HTTPS connection (1): repo.anaconda.com:443\n",
      "DEBUG:urllib3.connectionpool:https://conda.anaconda.org:443 \"GET /anaconda/win-64/repodata.json HTTP/1.1\" 200 None\n",
      "DEBUG:urllib3.connectionpool:https://conda.anaconda.org:443 \"GET /anaconda/noarch/repodata.json HTTP/1.1\" 200 None\n",
      "DEBUG:urllib3.connectionpool:https://repo.anaconda.com:443 \"GET /pkgs/r/win-64/repodata.json HTTP/1.1\" 304 0\n",
      "DEBUG:urllib3.connectionpool:https://repo.anaconda.com:443 \"GET /pkgs/main/noarch/repodata.json HTTP/1.1\" 200 None\n",
      "DEBUG:urllib3.connectionpool:https://repo.anaconda.com:443 \"GET /pkgs/msys2/noarch/repodata.json HTTP/1.1\" 304 0\n",
      "DEBUG:urllib3.connectionpool:https://repo.anaconda.com:443 \"GET /pkgs/msys2/win-64/repodata.json HTTP/1.1\" 200 None\n",
      "DEBUG:urllib3.connectionpool:https://repo.anaconda.com:443 \"GET /pkgs/main/win-64/repodata.json HTTP/1.1\" 200 None\n",
      "DEBUG:urllib3.connectionpool:https://repo.anaconda.com:443 \"GET /pkgs/r/noarch/repodata.json HTTP/1.1\" 200 None\n",
      "\n",
      "PackagesNotFoundError: The following packages are not available from current channels:\n",
      "\n",
      "  - pandas-pandas_profiling\n",
      "\n",
      "Current channels:\n",
      "\n",
      "  - https://conda.anaconda.org/anaconda/win-64\n",
      "  - https://conda.anaconda.org/anaconda/noarch\n",
      "  - https://repo.anaconda.com/pkgs/main/win-64\n",
      "  - https://repo.anaconda.com/pkgs/main/noarch\n",
      "  - https://repo.anaconda.com/pkgs/r/win-64\n",
      "  - https://repo.anaconda.com/pkgs/r/noarch\n",
      "  - https://repo.anaconda.com/pkgs/msys2/win-64\n",
      "  - https://repo.anaconda.com/pkgs/msys2/noarch\n",
      "\n",
      "To search for alternate channels that may provide the conda package you're\n",
      "looking for, navigate to\n",
      "\n",
      "    https://anaconda.org\n",
      "\n",
      "and use the search bar at the top of the page.\n",
      "\n",
      "\n"
     ]
    }
   ],
   "source": [
    "!conda install -c anaconda pandas-pandas_profiling"
   ]
  },
  {
   "cell_type": "code",
   "execution_count": 27,
   "id": "215a26c0",
   "metadata": {
    "scrolled": false
   },
   "outputs": [
    {
     "name": "stdout",
     "output_type": "stream",
     "text": [
      "Requirement already satisfied: pandas-profiling in c:\\users\\niran\\anaconda3\\lib\\site-packages (3.2.0)\n",
      "Requirement already satisfied: joblib~=1.1.0 in c:\\users\\niran\\anaconda3\\lib\\site-packages (from pandas-profiling) (1.1.1)\n",
      "Requirement already satisfied: scipy>=1.4.1 in c:\\users\\niran\\anaconda3\\lib\\site-packages (from pandas-profiling) (1.10.1)\n",
      "Requirement already satisfied: pandas!=1.0.0,!=1.0.1,!=1.0.2,!=1.1.0,>=0.25.3 in c:\\users\\niran\\anaconda3\\lib\\site-packages (from pandas-profiling) (1.5.3)\n",
      "Requirement already satisfied: matplotlib>=3.2.0 in c:\\users\\niran\\anaconda3\\lib\\site-packages (from pandas-profiling) (3.7.1)\n",
      "Requirement already satisfied: pydantic>=1.8.1 in c:\\users\\niran\\anaconda3\\lib\\site-packages (from pandas-profiling) (1.10.14)\n",
      "Requirement already satisfied: PyYAML>=5.0.0 in c:\\users\\niran\\anaconda3\\lib\\site-packages (from pandas-profiling) (6.0)\n",
      "Requirement already satisfied: jinja2>=2.11.1 in c:\\users\\niran\\anaconda3\\lib\\site-packages (from pandas-profiling) (3.1.2)\n",
      "Requirement already satisfied: markupsafe~=2.1.1 in c:\\users\\niran\\anaconda3\\lib\\site-packages (from pandas-profiling) (2.1.1)\n",
      "Collecting visions[type_image_path]==0.7.4 (from pandas-profiling)\n",
      "  Obtaining dependency information for visions[type_image_path]==0.7.4 from https://files.pythonhosted.org/packages/66/00/166b2beb8046f06b77a2bf2c1dafeb52eff608f7dd420c767d5f3ce36ef5/visions-0.7.4-py3-none-any.whl.metadata\n",
      "  Downloading visions-0.7.4-py3-none-any.whl.metadata (5.9 kB)\n",
      "Requirement already satisfied: numpy>=1.16.0 in c:\\users\\niran\\anaconda3\\lib\\site-packages (from pandas-profiling) (1.23.5)\n",
      "Requirement already satisfied: htmlmin>=0.1.12 in c:\\users\\niran\\anaconda3\\lib\\site-packages (from pandas-profiling) (0.1.12)\n",
      "Requirement already satisfied: missingno>=0.4.2 in c:\\users\\niran\\anaconda3\\lib\\site-packages (from pandas-profiling) (0.5.2)\n",
      "Requirement already satisfied: phik>=0.11.1 in c:\\users\\niran\\anaconda3\\lib\\site-packages (from pandas-profiling) (0.12.3)\n",
      "Requirement already satisfied: tangled-up-in-unicode==0.2.0 in c:\\users\\niran\\anaconda3\\lib\\site-packages (from pandas-profiling) (0.2.0)\n",
      "Requirement already satisfied: requests>=2.24.0 in c:\\users\\niran\\anaconda3\\lib\\site-packages (from pandas-profiling) (2.31.0)\n",
      "Requirement already satisfied: tqdm>=4.48.2 in c:\\users\\niran\\anaconda3\\lib\\site-packages (from pandas-profiling) (4.65.0)\n",
      "Requirement already satisfied: seaborn>=0.10.1 in c:\\users\\niran\\anaconda3\\lib\\site-packages (from pandas-profiling) (0.12.2)\n",
      "Requirement already satisfied: multimethod>=1.4 in c:\\users\\niran\\anaconda3\\lib\\site-packages (from pandas-profiling) (1.10)\n",
      "Requirement already satisfied: attrs>=19.3.0 in c:\\users\\niran\\anaconda3\\lib\\site-packages (from visions[type_image_path]==0.7.4->pandas-profiling) (22.1.0)\n",
      "Requirement already satisfied: networkx>=2.4 in c:\\users\\niran\\anaconda3\\lib\\site-packages (from visions[type_image_path]==0.7.4->pandas-profiling) (3.1)\n",
      "Requirement already satisfied: imagehash in c:\\users\\niran\\anaconda3\\lib\\site-packages (from visions[type_image_path]==0.7.4->pandas-profiling) (4.3.1)\n",
      "Requirement already satisfied: Pillow in c:\\users\\niran\\anaconda3\\lib\\site-packages (from visions[type_image_path]==0.7.4->pandas-profiling) (9.4.0)\n",
      "Requirement already satisfied: contourpy>=1.0.1 in c:\\users\\niran\\anaconda3\\lib\\site-packages (from matplotlib>=3.2.0->pandas-profiling) (1.0.5)\n",
      "Requirement already satisfied: cycler>=0.10 in c:\\users\\niran\\anaconda3\\lib\\site-packages (from matplotlib>=3.2.0->pandas-profiling) (0.11.0)\n",
      "Requirement already satisfied: fonttools>=4.22.0 in c:\\users\\niran\\anaconda3\\lib\\site-packages (from matplotlib>=3.2.0->pandas-profiling) (4.25.0)\n",
      "Requirement already satisfied: kiwisolver>=1.0.1 in c:\\users\\niran\\anaconda3\\lib\\site-packages (from matplotlib>=3.2.0->pandas-profiling) (1.4.4)\n",
      "Requirement already satisfied: packaging>=20.0 in c:\\users\\niran\\anaconda3\\lib\\site-packages (from matplotlib>=3.2.0->pandas-profiling) (23.0)\n",
      "Requirement already satisfied: pyparsing>=2.3.1 in c:\\users\\niran\\anaconda3\\lib\\site-packages (from matplotlib>=3.2.0->pandas-profiling) (3.0.9)\n",
      "Requirement already satisfied: python-dateutil>=2.7 in c:\\users\\niran\\anaconda3\\lib\\site-packages (from matplotlib>=3.2.0->pandas-profiling) (2.8.2)\n",
      "Requirement already satisfied: pytz>=2020.1 in c:\\users\\niran\\anaconda3\\lib\\site-packages (from pandas!=1.0.0,!=1.0.1,!=1.0.2,!=1.1.0,>=0.25.3->pandas-profiling) (2022.7)\n",
      "Requirement already satisfied: typing-extensions>=4.2.0 in c:\\users\\niran\\anaconda3\\lib\\site-packages (from pydantic>=1.8.1->pandas-profiling) (4.7.1)\n",
      "Requirement already satisfied: charset-normalizer<4,>=2 in c:\\users\\niran\\anaconda3\\lib\\site-packages (from requests>=2.24.0->pandas-profiling) (2.0.4)\n",
      "Requirement already satisfied: idna<4,>=2.5 in c:\\users\\niran\\anaconda3\\lib\\site-packages (from requests>=2.24.0->pandas-profiling) (3.4)\n",
      "Requirement already satisfied: urllib3<3,>=1.21.1 in c:\\users\\niran\\anaconda3\\lib\\site-packages (from requests>=2.24.0->pandas-profiling) (1.26.16)\n",
      "Requirement already satisfied: certifi>=2017.4.17 in c:\\users\\niran\\anaconda3\\lib\\site-packages (from requests>=2.24.0->pandas-profiling) (2023.7.22)\n",
      "Requirement already satisfied: colorama in c:\\users\\niran\\anaconda3\\lib\\site-packages (from tqdm>=4.48.2->pandas-profiling) (0.4.6)\n",
      "Requirement already satisfied: six>=1.5 in c:\\users\\niran\\anaconda3\\lib\\site-packages (from python-dateutil>=2.7->matplotlib>=3.2.0->pandas-profiling) (1.16.0)\n",
      "Requirement already satisfied: PyWavelets in c:\\users\\niran\\anaconda3\\lib\\site-packages (from imagehash->visions[type_image_path]==0.7.4->pandas-profiling) (1.4.1)\n",
      "Using cached visions-0.7.4-py3-none-any.whl (102 kB)\n",
      "Installing collected packages: visions\n",
      "  Attempting uninstall: visions\n",
      "    Found existing installation: visions 0.7.5\n",
      "    Uninstalling visions-0.7.5:\n",
      "      Successfully uninstalled visions-0.7.5\n",
      "Successfully installed visions-0.7.4\n",
      "Note: you may need to restart the kernel to use updated packages.\n"
     ]
    },
    {
     "name": "stderr",
     "output_type": "stream",
     "text": [
      "ERROR: pip's dependency resolver does not currently take into account all the packages that are installed. This behaviour is the source of the following dependency conflicts.\n",
      "ydata-profiling 4.5.1 requires visions[type_image_path]==0.7.5, but you have visions 0.7.4 which is incompatible.\n"
     ]
    }
   ],
   "source": [
    "pip install pandas-profiling"
   ]
  },
  {
   "cell_type": "code",
   "execution_count": 28,
   "id": "2ad7d54e",
   "metadata": {},
   "outputs": [],
   "source": [
    "from ydata_profiling import ProfileReport"
   ]
  },
  {
   "cell_type": "code",
   "execution_count": 29,
   "id": "2da19844",
   "metadata": {},
   "outputs": [
    {
     "data": {
      "application/vnd.jupyter.widget-view+json": {
       "model_id": "0c16f34d66af48ada92ee6d14222c3c5",
       "version_major": 2,
       "version_minor": 0
      },
      "text/plain": [
       "Summarize dataset:   0%|          | 0/5 [00:00<?, ?it/s]"
      ]
     },
     "metadata": {},
     "output_type": "display_data"
    },
    {
     "data": {
      "application/vnd.jupyter.widget-view+json": {
       "model_id": "47a3b9b5c19f46189bcddcd9b4aeda05",
       "version_major": 2,
       "version_minor": 0
      },
      "text/plain": [
       "Generate report structure:   0%|          | 0/1 [00:00<?, ?it/s]"
      ]
     },
     "metadata": {},
     "output_type": "display_data"
    },
    {
     "data": {
      "application/vnd.jupyter.widget-view+json": {
       "model_id": "919ff0fd6ef94ff5b672680128004a81",
       "version_major": 2,
       "version_minor": 0
      },
      "text/plain": [
       "Render HTML:   0%|          | 0/1 [00:00<?, ?it/s]"
      ]
     },
     "metadata": {},
     "output_type": "display_data"
    },
    {
     "data": {
      "application/vnd.jupyter.widget-view+json": {
       "model_id": "d253704b032a4c5494d92ce668560f4b",
       "version_major": 2,
       "version_minor": 0
      },
      "text/plain": [
       "Export report to file:   0%|          | 0/1 [00:00<?, ?it/s]"
      ]
     },
     "metadata": {},
     "output_type": "display_data"
    }
   ],
   "source": [
    "profile=ProfileReport(df_train)\n",
    "profile.to_file('data_report.html')"
   ]
  },
  {
   "cell_type": "code",
   "execution_count": 30,
   "id": "48439317",
   "metadata": {},
   "outputs": [],
   "source": [
    "new_data=df_train.loc[(df_train['Age']==1) & df_train['Gender']==1]"
   ]
  },
  {
   "cell_type": "code",
   "execution_count": 31,
   "id": "f4dd5ae7",
   "metadata": {},
   "outputs": [
    {
     "data": {
      "text/html": [
       "<div>\n",
       "<style scoped>\n",
       "    .dataframe tbody tr th:only-of-type {\n",
       "        vertical-align: middle;\n",
       "    }\n",
       "\n",
       "    .dataframe tbody tr th {\n",
       "        vertical-align: top;\n",
       "    }\n",
       "\n",
       "    .dataframe thead th {\n",
       "        text-align: right;\n",
       "    }\n",
       "</style>\n",
       "<table border=\"1\" class=\"dataframe\">\n",
       "  <thead>\n",
       "    <tr style=\"text-align: right;\">\n",
       "      <th></th>\n",
       "      <th>User_ID</th>\n",
       "      <th>Product_ID</th>\n",
       "      <th>Gender</th>\n",
       "      <th>Age</th>\n",
       "      <th>Occupation</th>\n",
       "      <th>City_Category</th>\n",
       "      <th>Stay_In_Current_City_Years</th>\n",
       "      <th>Marital_Status</th>\n",
       "      <th>Product_Category_1</th>\n",
       "      <th>Product_Category_2</th>\n",
       "      <th>Product_Category_3</th>\n",
       "      <th>Purchase</th>\n",
       "    </tr>\n",
       "  </thead>\n",
       "  <tbody>\n",
       "    <tr>\n",
       "      <th>98</th>\n",
       "      <td>21</td>\n",
       "      <td>490</td>\n",
       "      <td>1</td>\n",
       "      <td>1</td>\n",
       "      <td>15</td>\n",
       "      <td>0</td>\n",
       "      <td>4</td>\n",
       "      <td>0</td>\n",
       "      <td>1</td>\n",
       "      <td>8.0</td>\n",
       "      <td>17.0</td>\n",
       "      <td>12099</td>\n",
       "    </tr>\n",
       "    <tr>\n",
       "      <th>103</th>\n",
       "      <td>21</td>\n",
       "      <td>405</td>\n",
       "      <td>1</td>\n",
       "      <td>1</td>\n",
       "      <td>15</td>\n",
       "      <td>0</td>\n",
       "      <td>4</td>\n",
       "      <td>0</td>\n",
       "      <td>1</td>\n",
       "      <td>11.0</td>\n",
       "      <td>16.0</td>\n",
       "      <td>12098</td>\n",
       "    </tr>\n",
       "    <tr>\n",
       "      <th>111</th>\n",
       "      <td>21</td>\n",
       "      <td>361</td>\n",
       "      <td>1</td>\n",
       "      <td>1</td>\n",
       "      <td>15</td>\n",
       "      <td>0</td>\n",
       "      <td>4</td>\n",
       "      <td>0</td>\n",
       "      <td>2</td>\n",
       "      <td>4.0</td>\n",
       "      <td>15.0</td>\n",
       "      <td>9564</td>\n",
       "    </tr>\n",
       "    <tr>\n",
       "      <th>127</th>\n",
       "      <td>24</td>\n",
       "      <td>335</td>\n",
       "      <td>1</td>\n",
       "      <td>1</td>\n",
       "      <td>4</td>\n",
       "      <td>2</td>\n",
       "      <td>4</td>\n",
       "      <td>0</td>\n",
       "      <td>1</td>\n",
       "      <td>5.0</td>\n",
       "      <td>9.0</td>\n",
       "      <td>15361</td>\n",
       "    </tr>\n",
       "    <tr>\n",
       "      <th>128</th>\n",
       "      <td>24</td>\n",
       "      <td>72</td>\n",
       "      <td>1</td>\n",
       "      <td>1</td>\n",
       "      <td>4</td>\n",
       "      <td>2</td>\n",
       "      <td>4</td>\n",
       "      <td>0</td>\n",
       "      <td>1</td>\n",
       "      <td>2.0</td>\n",
       "      <td>15.0</td>\n",
       "      <td>15770</td>\n",
       "    </tr>\n",
       "    <tr>\n",
       "      <th>...</th>\n",
       "      <td>...</td>\n",
       "      <td>...</td>\n",
       "      <td>...</td>\n",
       "      <td>...</td>\n",
       "      <td>...</td>\n",
       "      <td>...</td>\n",
       "      <td>...</td>\n",
       "      <td>...</td>\n",
       "      <td>...</td>\n",
       "      <td>...</td>\n",
       "      <td>...</td>\n",
       "      <td>...</td>\n",
       "    </tr>\n",
       "    <tr>\n",
       "      <th>545425</th>\n",
       "      <td>5793</td>\n",
       "      <td>52</td>\n",
       "      <td>1</td>\n",
       "      <td>1</td>\n",
       "      <td>5</td>\n",
       "      <td>1</td>\n",
       "      <td>1</td>\n",
       "      <td>0</td>\n",
       "      <td>1</td>\n",
       "      <td>14.0</td>\n",
       "      <td>16.0</td>\n",
       "      <td>15420</td>\n",
       "    </tr>\n",
       "    <tr>\n",
       "      <th>545427</th>\n",
       "      <td>5793</td>\n",
       "      <td>314</td>\n",
       "      <td>1</td>\n",
       "      <td>1</td>\n",
       "      <td>5</td>\n",
       "      <td>1</td>\n",
       "      <td>1</td>\n",
       "      <td>0</td>\n",
       "      <td>2</td>\n",
       "      <td>3.0</td>\n",
       "      <td>4.0</td>\n",
       "      <td>15973</td>\n",
       "    </tr>\n",
       "    <tr>\n",
       "      <th>545428</th>\n",
       "      <td>5793</td>\n",
       "      <td>249</td>\n",
       "      <td>1</td>\n",
       "      <td>1</td>\n",
       "      <td>5</td>\n",
       "      <td>1</td>\n",
       "      <td>1</td>\n",
       "      <td>0</td>\n",
       "      <td>2</td>\n",
       "      <td>15.0</td>\n",
       "      <td>16.0</td>\n",
       "      <td>6847</td>\n",
       "    </tr>\n",
       "    <tr>\n",
       "      <th>545430</th>\n",
       "      <td>5793</td>\n",
       "      <td>253</td>\n",
       "      <td>1</td>\n",
       "      <td>1</td>\n",
       "      <td>5</td>\n",
       "      <td>1</td>\n",
       "      <td>1</td>\n",
       "      <td>0</td>\n",
       "      <td>2</td>\n",
       "      <td>4.0</td>\n",
       "      <td>5.0</td>\n",
       "      <td>13276</td>\n",
       "    </tr>\n",
       "    <tr>\n",
       "      <th>545438</th>\n",
       "      <td>5793</td>\n",
       "      <td>228</td>\n",
       "      <td>1</td>\n",
       "      <td>1</td>\n",
       "      <td>5</td>\n",
       "      <td>1</td>\n",
       "      <td>1</td>\n",
       "      <td>0</td>\n",
       "      <td>11</td>\n",
       "      <td>13.0</td>\n",
       "      <td>16.0</td>\n",
       "      <td>3125</td>\n",
       "    </tr>\n",
       "  </tbody>\n",
       "</table>\n",
       "<p>24239 rows × 12 columns</p>\n",
       "</div>"
      ],
      "text/plain": [
       "        User_ID  Product_ID  Gender  Age  Occupation  City_Category  \\\n",
       "98           21         490       1    1          15              0   \n",
       "103          21         405       1    1          15              0   \n",
       "111          21         361       1    1          15              0   \n",
       "127          24         335       1    1           4              2   \n",
       "128          24          72       1    1           4              2   \n",
       "...         ...         ...     ...  ...         ...            ...   \n",
       "545425     5793          52       1    1           5              1   \n",
       "545427     5793         314       1    1           5              1   \n",
       "545428     5793         249       1    1           5              1   \n",
       "545430     5793         253       1    1           5              1   \n",
       "545438     5793         228       1    1           5              1   \n",
       "\n",
       "        Stay_In_Current_City_Years  Marital_Status  Product_Category_1  \\\n",
       "98                               4               0                   1   \n",
       "103                              4               0                   1   \n",
       "111                              4               0                   2   \n",
       "127                              4               0                   1   \n",
       "128                              4               0                   1   \n",
       "...                            ...             ...                 ...   \n",
       "545425                           1               0                   1   \n",
       "545427                           1               0                   2   \n",
       "545428                           1               0                   2   \n",
       "545430                           1               0                   2   \n",
       "545438                           1               0                  11   \n",
       "\n",
       "        Product_Category_2  Product_Category_3  Purchase  \n",
       "98                     8.0                17.0     12099  \n",
       "103                   11.0                16.0     12098  \n",
       "111                    4.0                15.0      9564  \n",
       "127                    5.0                 9.0     15361  \n",
       "128                    2.0                15.0     15770  \n",
       "...                    ...                 ...       ...  \n",
       "545425                14.0                16.0     15420  \n",
       "545427                 3.0                 4.0     15973  \n",
       "545428                15.0                16.0      6847  \n",
       "545430                 4.0                 5.0     13276  \n",
       "545438                13.0                16.0      3125  \n",
       "\n",
       "[24239 rows x 12 columns]"
      ]
     },
     "execution_count": 31,
     "metadata": {},
     "output_type": "execute_result"
    }
   ],
   "source": [
    "new_data"
   ]
  },
  {
   "cell_type": "code",
   "execution_count": 32,
   "id": "5ed073b7",
   "metadata": {},
   "outputs": [],
   "source": [
    "sample_size=1000\n",
    "sample=new_data.sample(sample_size,random_state=0)"
   ]
  },
  {
   "cell_type": "code",
   "execution_count": 33,
   "id": "2f1e8e77",
   "metadata": {},
   "outputs": [
    {
     "data": {
      "text/html": [
       "<div>\n",
       "<style scoped>\n",
       "    .dataframe tbody tr th:only-of-type {\n",
       "        vertical-align: middle;\n",
       "    }\n",
       "\n",
       "    .dataframe tbody tr th {\n",
       "        vertical-align: top;\n",
       "    }\n",
       "\n",
       "    .dataframe thead th {\n",
       "        text-align: right;\n",
       "    }\n",
       "</style>\n",
       "<table border=\"1\" class=\"dataframe\">\n",
       "  <thead>\n",
       "    <tr style=\"text-align: right;\">\n",
       "      <th></th>\n",
       "      <th>User_ID</th>\n",
       "      <th>Product_ID</th>\n",
       "      <th>Gender</th>\n",
       "      <th>Age</th>\n",
       "      <th>Occupation</th>\n",
       "      <th>City_Category</th>\n",
       "      <th>Stay_In_Current_City_Years</th>\n",
       "      <th>Marital_Status</th>\n",
       "      <th>Product_Category_1</th>\n",
       "      <th>Product_Category_2</th>\n",
       "      <th>Product_Category_3</th>\n",
       "      <th>Purchase</th>\n",
       "    </tr>\n",
       "  </thead>\n",
       "  <tbody>\n",
       "    <tr>\n",
       "      <th>529454</th>\n",
       "      <td>3467</td>\n",
       "      <td>184</td>\n",
       "      <td>1</td>\n",
       "      <td>1</td>\n",
       "      <td>0</td>\n",
       "      <td>2</td>\n",
       "      <td>2</td>\n",
       "      <td>0</td>\n",
       "      <td>1</td>\n",
       "      <td>2.0</td>\n",
       "      <td>15.0</td>\n",
       "      <td>11599</td>\n",
       "    </tr>\n",
       "    <tr>\n",
       "      <th>6939</th>\n",
       "      <td>1068</td>\n",
       "      <td>242</td>\n",
       "      <td>1</td>\n",
       "      <td>1</td>\n",
       "      <td>6</td>\n",
       "      <td>0</td>\n",
       "      <td>4</td>\n",
       "      <td>0</td>\n",
       "      <td>5</td>\n",
       "      <td>6.0</td>\n",
       "      <td>13.0</td>\n",
       "      <td>5387</td>\n",
       "    </tr>\n",
       "    <tr>\n",
       "      <th>249217</th>\n",
       "      <td>2301</td>\n",
       "      <td>303</td>\n",
       "      <td>1</td>\n",
       "      <td>1</td>\n",
       "      <td>18</td>\n",
       "      <td>2</td>\n",
       "      <td>1</td>\n",
       "      <td>0</td>\n",
       "      <td>3</td>\n",
       "      <td>4.0</td>\n",
       "      <td>9.0</td>\n",
       "      <td>10833</td>\n",
       "    </tr>\n",
       "    <tr>\n",
       "      <th>118440</th>\n",
       "      <td>266</td>\n",
       "      <td>300</td>\n",
       "      <td>1</td>\n",
       "      <td>1</td>\n",
       "      <td>4</td>\n",
       "      <td>2</td>\n",
       "      <td>1</td>\n",
       "      <td>0</td>\n",
       "      <td>3</td>\n",
       "      <td>4.0</td>\n",
       "      <td>5.0</td>\n",
       "      <td>10649</td>\n",
       "    </tr>\n",
       "    <tr>\n",
       "      <th>93327</th>\n",
       "      <td>2273</td>\n",
       "      <td>501</td>\n",
       "      <td>1</td>\n",
       "      <td>1</td>\n",
       "      <td>4</td>\n",
       "      <td>2</td>\n",
       "      <td>1</td>\n",
       "      <td>1</td>\n",
       "      <td>11</td>\n",
       "      <td>15.0</td>\n",
       "      <td>16.0</td>\n",
       "      <td>3163</td>\n",
       "    </tr>\n",
       "    <tr>\n",
       "      <th>...</th>\n",
       "      <td>...</td>\n",
       "      <td>...</td>\n",
       "      <td>...</td>\n",
       "      <td>...</td>\n",
       "      <td>...</td>\n",
       "      <td>...</td>\n",
       "      <td>...</td>\n",
       "      <td>...</td>\n",
       "      <td>...</td>\n",
       "      <td>...</td>\n",
       "      <td>...</td>\n",
       "      <td>...</td>\n",
       "    </tr>\n",
       "    <tr>\n",
       "      <th>334055</th>\n",
       "      <td>3377</td>\n",
       "      <td>72</td>\n",
       "      <td>1</td>\n",
       "      <td>1</td>\n",
       "      <td>4</td>\n",
       "      <td>2</td>\n",
       "      <td>1</td>\n",
       "      <td>0</td>\n",
       "      <td>1</td>\n",
       "      <td>2.0</td>\n",
       "      <td>15.0</td>\n",
       "      <td>15659</td>\n",
       "    </tr>\n",
       "    <tr>\n",
       "      <th>156781</th>\n",
       "      <td>198</td>\n",
       "      <td>87</td>\n",
       "      <td>1</td>\n",
       "      <td>1</td>\n",
       "      <td>4</td>\n",
       "      <td>0</td>\n",
       "      <td>3</td>\n",
       "      <td>0</td>\n",
       "      <td>3</td>\n",
       "      <td>4.0</td>\n",
       "      <td>5.0</td>\n",
       "      <td>8284</td>\n",
       "    </tr>\n",
       "    <tr>\n",
       "      <th>121262</th>\n",
       "      <td>721</td>\n",
       "      <td>214</td>\n",
       "      <td>1</td>\n",
       "      <td>1</td>\n",
       "      <td>4</td>\n",
       "      <td>2</td>\n",
       "      <td>4</td>\n",
       "      <td>1</td>\n",
       "      <td>1</td>\n",
       "      <td>2.0</td>\n",
       "      <td>5.0</td>\n",
       "      <td>8263</td>\n",
       "    </tr>\n",
       "    <tr>\n",
       "      <th>490848</th>\n",
       "      <td>3510</td>\n",
       "      <td>120</td>\n",
       "      <td>1</td>\n",
       "      <td>1</td>\n",
       "      <td>1</td>\n",
       "      <td>1</td>\n",
       "      <td>2</td>\n",
       "      <td>1</td>\n",
       "      <td>6</td>\n",
       "      <td>8.0</td>\n",
       "      <td>14.0</td>\n",
       "      <td>16222</td>\n",
       "    </tr>\n",
       "    <tr>\n",
       "      <th>322208</th>\n",
       "      <td>1574</td>\n",
       "      <td>431</td>\n",
       "      <td>1</td>\n",
       "      <td>1</td>\n",
       "      <td>20</td>\n",
       "      <td>1</td>\n",
       "      <td>1</td>\n",
       "      <td>0</td>\n",
       "      <td>3</td>\n",
       "      <td>4.0</td>\n",
       "      <td>5.0</td>\n",
       "      <td>13444</td>\n",
       "    </tr>\n",
       "  </tbody>\n",
       "</table>\n",
       "<p>1000 rows × 12 columns</p>\n",
       "</div>"
      ],
      "text/plain": [
       "        User_ID  Product_ID  Gender  Age  Occupation  City_Category  \\\n",
       "529454     3467         184       1    1           0              2   \n",
       "6939       1068         242       1    1           6              0   \n",
       "249217     2301         303       1    1          18              2   \n",
       "118440      266         300       1    1           4              2   \n",
       "93327      2273         501       1    1           4              2   \n",
       "...         ...         ...     ...  ...         ...            ...   \n",
       "334055     3377          72       1    1           4              2   \n",
       "156781      198          87       1    1           4              0   \n",
       "121262      721         214       1    1           4              2   \n",
       "490848     3510         120       1    1           1              1   \n",
       "322208     1574         431       1    1          20              1   \n",
       "\n",
       "        Stay_In_Current_City_Years  Marital_Status  Product_Category_1  \\\n",
       "529454                           2               0                   1   \n",
       "6939                             4               0                   5   \n",
       "249217                           1               0                   3   \n",
       "118440                           1               0                   3   \n",
       "93327                            1               1                  11   \n",
       "...                            ...             ...                 ...   \n",
       "334055                           1               0                   1   \n",
       "156781                           3               0                   3   \n",
       "121262                           4               1                   1   \n",
       "490848                           2               1                   6   \n",
       "322208                           1               0                   3   \n",
       "\n",
       "        Product_Category_2  Product_Category_3  Purchase  \n",
       "529454                 2.0                15.0     11599  \n",
       "6939                   6.0                13.0      5387  \n",
       "249217                 4.0                 9.0     10833  \n",
       "118440                 4.0                 5.0     10649  \n",
       "93327                 15.0                16.0      3163  \n",
       "...                    ...                 ...       ...  \n",
       "334055                 2.0                15.0     15659  \n",
       "156781                 4.0                 5.0      8284  \n",
       "121262                 2.0                 5.0      8263  \n",
       "490848                 8.0                14.0     16222  \n",
       "322208                 4.0                 5.0     13444  \n",
       "\n",
       "[1000 rows x 12 columns]"
      ]
     },
     "execution_count": 33,
     "metadata": {},
     "output_type": "execute_result"
    }
   ],
   "source": [
    "sample"
   ]
  },
  {
   "cell_type": "code",
   "execution_count": 34,
   "id": "848e020a",
   "metadata": {},
   "outputs": [],
   "source": [
    "pos_mean=10000"
   ]
  },
  {
   "cell_type": "code",
   "execution_count": 35,
   "id": "0d61a4ee",
   "metadata": {},
   "outputs": [],
   "source": [
    "sample_mean=sample['Purchase'].mean()"
   ]
  },
  {
   "cell_type": "code",
   "execution_count": 36,
   "id": "19fb68b8",
   "metadata": {},
   "outputs": [
    {
     "data": {
      "text/plain": [
       "11806.467"
      ]
     },
     "execution_count": 36,
     "metadata": {},
     "output_type": "execute_result"
    }
   ],
   "source": [
    "sample_mean"
   ]
  },
  {
   "cell_type": "code",
   "execution_count": 37,
   "id": "189dd1b7",
   "metadata": {},
   "outputs": [],
   "source": [
    "from scipy.stats import ttest_1samp\n",
    "t_stat, pvalue = ttest_1samp(sample['Purchase'], pos_mean)"
   ]
  },
  {
   "cell_type": "code",
   "execution_count": 38,
   "id": "a7429018",
   "metadata": {},
   "outputs": [
    {
     "name": "stdout",
     "output_type": "stream",
     "text": [
      "11.215158056527494 1.4097545140748985e-27\n"
     ]
    }
   ],
   "source": [
    "print(t_stat,pvalue)"
   ]
  },
  {
   "cell_type": "code",
   "execution_count": null,
   "id": "afe6e33c",
   "metadata": {},
   "outputs": [],
   "source": []
  }
 ],
 "metadata": {
  "kernelspec": {
   "display_name": "Python 3 (ipykernel)",
   "language": "python",
   "name": "python3"
  },
  "language_info": {
   "codemirror_mode": {
    "name": "ipython",
    "version": 3
   },
   "file_extension": ".py",
   "mimetype": "text/x-python",
   "name": "python",
   "nbconvert_exporter": "python",
   "pygments_lexer": "ipython3",
   "version": "3.11.4"
  }
 },
 "nbformat": 4,
 "nbformat_minor": 5
}
